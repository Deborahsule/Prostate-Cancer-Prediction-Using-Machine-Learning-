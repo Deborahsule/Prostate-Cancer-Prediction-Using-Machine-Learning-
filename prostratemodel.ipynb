{
  "cells": [
    {
      "cell_type": "markdown",
      "metadata": {
        "id": "HlJR0PAqY15U"
      },
      "source": [
        "# Building a Prostrate Cancer Prediction Model"
      ]
    },
    {
      "cell_type": "code",
      "execution_count": 1,
      "metadata": {
        "id": "LLTWACYKY15Y"
      },
      "outputs": [],
      "source": [
        "import pandas as pd\n",
        "import numpy as np\n",
        "import warnings\n",
        "warnings.filterwarnings(\"ignore\")\n"
      ]
    },
    {
      "cell_type": "code",
      "source": [
        "from google.colab import files\n",
        "upload = files.upload()"
      ],
      "metadata": {
        "colab": {
          "base_uri": "https://localhost:8080/",
          "height": 73
        },
        "id": "qIlH9qNGY5if",
        "outputId": "21d994b8-0609-46ea-9444-dff44d02b159"
      },
      "execution_count": 2,
      "outputs": [
        {
          "output_type": "display_data",
          "data": {
            "text/plain": [
              "<IPython.core.display.HTML object>"
            ],
            "text/html": [
              "\n",
              "     <input type=\"file\" id=\"files-3b293e24-37de-4508-9e95-1dab3e0fb0bf\" name=\"files[]\" multiple disabled\n",
              "        style=\"border:none\" />\n",
              "     <output id=\"result-3b293e24-37de-4508-9e95-1dab3e0fb0bf\">\n",
              "      Upload widget is only available when the cell has been executed in the\n",
              "      current browser session. Please rerun this cell to enable.\n",
              "      </output>\n",
              "      <script>// Copyright 2017 Google LLC\n",
              "//\n",
              "// Licensed under the Apache License, Version 2.0 (the \"License\");\n",
              "// you may not use this file except in compliance with the License.\n",
              "// You may obtain a copy of the License at\n",
              "//\n",
              "//      http://www.apache.org/licenses/LICENSE-2.0\n",
              "//\n",
              "// Unless required by applicable law or agreed to in writing, software\n",
              "// distributed under the License is distributed on an \"AS IS\" BASIS,\n",
              "// WITHOUT WARRANTIES OR CONDITIONS OF ANY KIND, either express or implied.\n",
              "// See the License for the specific language governing permissions and\n",
              "// limitations under the License.\n",
              "\n",
              "/**\n",
              " * @fileoverview Helpers for google.colab Python module.\n",
              " */\n",
              "(function(scope) {\n",
              "function span(text, styleAttributes = {}) {\n",
              "  const element = document.createElement('span');\n",
              "  element.textContent = text;\n",
              "  for (const key of Object.keys(styleAttributes)) {\n",
              "    element.style[key] = styleAttributes[key];\n",
              "  }\n",
              "  return element;\n",
              "}\n",
              "\n",
              "// Max number of bytes which will be uploaded at a time.\n",
              "const MAX_PAYLOAD_SIZE = 100 * 1024;\n",
              "\n",
              "function _uploadFiles(inputId, outputId) {\n",
              "  const steps = uploadFilesStep(inputId, outputId);\n",
              "  const outputElement = document.getElementById(outputId);\n",
              "  // Cache steps on the outputElement to make it available for the next call\n",
              "  // to uploadFilesContinue from Python.\n",
              "  outputElement.steps = steps;\n",
              "\n",
              "  return _uploadFilesContinue(outputId);\n",
              "}\n",
              "\n",
              "// This is roughly an async generator (not supported in the browser yet),\n",
              "// where there are multiple asynchronous steps and the Python side is going\n",
              "// to poll for completion of each step.\n",
              "// This uses a Promise to block the python side on completion of each step,\n",
              "// then passes the result of the previous step as the input to the next step.\n",
              "function _uploadFilesContinue(outputId) {\n",
              "  const outputElement = document.getElementById(outputId);\n",
              "  const steps = outputElement.steps;\n",
              "\n",
              "  const next = steps.next(outputElement.lastPromiseValue);\n",
              "  return Promise.resolve(next.value.promise).then((value) => {\n",
              "    // Cache the last promise value to make it available to the next\n",
              "    // step of the generator.\n",
              "    outputElement.lastPromiseValue = value;\n",
              "    return next.value.response;\n",
              "  });\n",
              "}\n",
              "\n",
              "/**\n",
              " * Generator function which is called between each async step of the upload\n",
              " * process.\n",
              " * @param {string} inputId Element ID of the input file picker element.\n",
              " * @param {string} outputId Element ID of the output display.\n",
              " * @return {!Iterable<!Object>} Iterable of next steps.\n",
              " */\n",
              "function* uploadFilesStep(inputId, outputId) {\n",
              "  const inputElement = document.getElementById(inputId);\n",
              "  inputElement.disabled = false;\n",
              "\n",
              "  const outputElement = document.getElementById(outputId);\n",
              "  outputElement.innerHTML = '';\n",
              "\n",
              "  const pickedPromise = new Promise((resolve) => {\n",
              "    inputElement.addEventListener('change', (e) => {\n",
              "      resolve(e.target.files);\n",
              "    });\n",
              "  });\n",
              "\n",
              "  const cancel = document.createElement('button');\n",
              "  inputElement.parentElement.appendChild(cancel);\n",
              "  cancel.textContent = 'Cancel upload';\n",
              "  const cancelPromise = new Promise((resolve) => {\n",
              "    cancel.onclick = () => {\n",
              "      resolve(null);\n",
              "    };\n",
              "  });\n",
              "\n",
              "  // Wait for the user to pick the files.\n",
              "  const files = yield {\n",
              "    promise: Promise.race([pickedPromise, cancelPromise]),\n",
              "    response: {\n",
              "      action: 'starting',\n",
              "    }\n",
              "  };\n",
              "\n",
              "  cancel.remove();\n",
              "\n",
              "  // Disable the input element since further picks are not allowed.\n",
              "  inputElement.disabled = true;\n",
              "\n",
              "  if (!files) {\n",
              "    return {\n",
              "      response: {\n",
              "        action: 'complete',\n",
              "      }\n",
              "    };\n",
              "  }\n",
              "\n",
              "  for (const file of files) {\n",
              "    const li = document.createElement('li');\n",
              "    li.append(span(file.name, {fontWeight: 'bold'}));\n",
              "    li.append(span(\n",
              "        `(${file.type || 'n/a'}) - ${file.size} bytes, ` +\n",
              "        `last modified: ${\n",
              "            file.lastModifiedDate ? file.lastModifiedDate.toLocaleDateString() :\n",
              "                                    'n/a'} - `));\n",
              "    const percent = span('0% done');\n",
              "    li.appendChild(percent);\n",
              "\n",
              "    outputElement.appendChild(li);\n",
              "\n",
              "    const fileDataPromise = new Promise((resolve) => {\n",
              "      const reader = new FileReader();\n",
              "      reader.onload = (e) => {\n",
              "        resolve(e.target.result);\n",
              "      };\n",
              "      reader.readAsArrayBuffer(file);\n",
              "    });\n",
              "    // Wait for the data to be ready.\n",
              "    let fileData = yield {\n",
              "      promise: fileDataPromise,\n",
              "      response: {\n",
              "        action: 'continue',\n",
              "      }\n",
              "    };\n",
              "\n",
              "    // Use a chunked sending to avoid message size limits. See b/62115660.\n",
              "    let position = 0;\n",
              "    do {\n",
              "      const length = Math.min(fileData.byteLength - position, MAX_PAYLOAD_SIZE);\n",
              "      const chunk = new Uint8Array(fileData, position, length);\n",
              "      position += length;\n",
              "\n",
              "      const base64 = btoa(String.fromCharCode.apply(null, chunk));\n",
              "      yield {\n",
              "        response: {\n",
              "          action: 'append',\n",
              "          file: file.name,\n",
              "          data: base64,\n",
              "        },\n",
              "      };\n",
              "\n",
              "      let percentDone = fileData.byteLength === 0 ?\n",
              "          100 :\n",
              "          Math.round((position / fileData.byteLength) * 100);\n",
              "      percent.textContent = `${percentDone}% done`;\n",
              "\n",
              "    } while (position < fileData.byteLength);\n",
              "  }\n",
              "\n",
              "  // All done.\n",
              "  yield {\n",
              "    response: {\n",
              "      action: 'complete',\n",
              "    }\n",
              "  };\n",
              "}\n",
              "\n",
              "scope.google = scope.google || {};\n",
              "scope.google.colab = scope.google.colab || {};\n",
              "scope.google.colab._files = {\n",
              "  _uploadFiles,\n",
              "  _uploadFilesContinue,\n",
              "};\n",
              "})(self);\n",
              "</script> "
            ]
          },
          "metadata": {}
        },
        {
          "output_type": "stream",
          "name": "stdout",
          "text": [
            "Saving prostate-cancer-data.csv to prostate-cancer-data.csv\n"
          ]
        }
      ]
    },
    {
      "cell_type": "code",
      "execution_count": 3,
      "metadata": {
        "colab": {
          "base_uri": "https://localhost:8080/"
        },
        "id": "uz57UdUqY15Z",
        "outputId": "a121faac-2349-4f3c-d686-cab9a5452b72"
      },
      "outputs": [
        {
          "output_type": "stream",
          "name": "stdout",
          "text": [
            "<class 'pandas.core.frame.DataFrame'>\n",
            "RangeIndex: 97 entries, 0 to 96\n",
            "Data columns (total 9 columns):\n",
            " #   Column   Non-Null Count  Dtype  \n",
            "---  ------   --------------  -----  \n",
            " 0   lcavol   97 non-null     float64\n",
            " 1   lweight  97 non-null     float64\n",
            " 2   age      97 non-null     int64  \n",
            " 3   lbph     97 non-null     float64\n",
            " 4   lcp      97 non-null     float64\n",
            " 5   gleason  97 non-null     int64  \n",
            " 6   pgg45    97 non-null     int64  \n",
            " 7   lpsa     97 non-null     float64\n",
            " 8   Target   97 non-null     int64  \n",
            "dtypes: float64(5), int64(4)\n",
            "memory usage: 6.9 KB\n"
          ]
        }
      ],
      "source": [
        "df = pd.read_csv('prostate-cancer-data.csv')\n",
        "df.info()"
      ]
    },
    {
      "cell_type": "code",
      "execution_count": 4,
      "metadata": {
        "colab": {
          "base_uri": "https://localhost:8080/",
          "height": 366
        },
        "id": "ws_gHA_QY15b",
        "outputId": "df2d89a7-9bd0-4f6b-ec44-f9751938cc6a"
      },
      "outputs": [
        {
          "output_type": "execute_result",
          "data": {
            "text/plain": [
              "lcavol     0\n",
              "lweight    0\n",
              "age        0\n",
              "lbph       0\n",
              "lcp        0\n",
              "gleason    0\n",
              "pgg45      0\n",
              "lpsa       0\n",
              "Target     0\n",
              "dtype: int64"
            ],
            "text/html": [
              "<div>\n",
              "<style scoped>\n",
              "    .dataframe tbody tr th:only-of-type {\n",
              "        vertical-align: middle;\n",
              "    }\n",
              "\n",
              "    .dataframe tbody tr th {\n",
              "        vertical-align: top;\n",
              "    }\n",
              "\n",
              "    .dataframe thead th {\n",
              "        text-align: right;\n",
              "    }\n",
              "</style>\n",
              "<table border=\"1\" class=\"dataframe\">\n",
              "  <thead>\n",
              "    <tr style=\"text-align: right;\">\n",
              "      <th></th>\n",
              "      <th>0</th>\n",
              "    </tr>\n",
              "  </thead>\n",
              "  <tbody>\n",
              "    <tr>\n",
              "      <th>lcavol</th>\n",
              "      <td>0</td>\n",
              "    </tr>\n",
              "    <tr>\n",
              "      <th>lweight</th>\n",
              "      <td>0</td>\n",
              "    </tr>\n",
              "    <tr>\n",
              "      <th>age</th>\n",
              "      <td>0</td>\n",
              "    </tr>\n",
              "    <tr>\n",
              "      <th>lbph</th>\n",
              "      <td>0</td>\n",
              "    </tr>\n",
              "    <tr>\n",
              "      <th>lcp</th>\n",
              "      <td>0</td>\n",
              "    </tr>\n",
              "    <tr>\n",
              "      <th>gleason</th>\n",
              "      <td>0</td>\n",
              "    </tr>\n",
              "    <tr>\n",
              "      <th>pgg45</th>\n",
              "      <td>0</td>\n",
              "    </tr>\n",
              "    <tr>\n",
              "      <th>lpsa</th>\n",
              "      <td>0</td>\n",
              "    </tr>\n",
              "    <tr>\n",
              "      <th>Target</th>\n",
              "      <td>0</td>\n",
              "    </tr>\n",
              "  </tbody>\n",
              "</table>\n",
              "</div><br><label><b>dtype:</b> int64</label>"
            ]
          },
          "metadata": {},
          "execution_count": 4
        }
      ],
      "source": [
        "df.isnull().sum()"
      ]
    },
    {
      "cell_type": "code",
      "execution_count": 5,
      "metadata": {
        "colab": {
          "base_uri": "https://localhost:8080/",
          "height": 206
        },
        "id": "r-OYdKuKY15b",
        "outputId": "82c7150f-2392-49ae-f8e9-08eb4bb3fbb8"
      },
      "outputs": [
        {
          "output_type": "execute_result",
          "data": {
            "text/plain": [
              "     lcavol   lweight  age      lbph       lcp  gleason  pgg45      lpsa  \\\n",
              "0 -0.579818  2.769459   50 -1.386294 -1.386294        6      0 -0.430783   \n",
              "1 -0.994252  3.319626   58 -1.386294 -1.386294        6      0 -0.162519   \n",
              "2 -0.510826  2.691243   74 -1.386294 -1.386294        7     20 -0.162519   \n",
              "3 -1.203973  3.282789   58 -1.386294 -1.386294        6      0 -0.162519   \n",
              "4  0.751416  3.432373   62 -1.386294 -1.386294        6      0  0.371564   \n",
              "\n",
              "   Target  \n",
              "0       0  \n",
              "1       0  \n",
              "2       0  \n",
              "3       0  \n",
              "4       0  "
            ],
            "text/html": [
              "\n",
              "  <div id=\"df-ea9604b7-33fe-4a65-9587-fae65a8cfa1b\" class=\"colab-df-container\">\n",
              "    <div>\n",
              "<style scoped>\n",
              "    .dataframe tbody tr th:only-of-type {\n",
              "        vertical-align: middle;\n",
              "    }\n",
              "\n",
              "    .dataframe tbody tr th {\n",
              "        vertical-align: top;\n",
              "    }\n",
              "\n",
              "    .dataframe thead th {\n",
              "        text-align: right;\n",
              "    }\n",
              "</style>\n",
              "<table border=\"1\" class=\"dataframe\">\n",
              "  <thead>\n",
              "    <tr style=\"text-align: right;\">\n",
              "      <th></th>\n",
              "      <th>lcavol</th>\n",
              "      <th>lweight</th>\n",
              "      <th>age</th>\n",
              "      <th>lbph</th>\n",
              "      <th>lcp</th>\n",
              "      <th>gleason</th>\n",
              "      <th>pgg45</th>\n",
              "      <th>lpsa</th>\n",
              "      <th>Target</th>\n",
              "    </tr>\n",
              "  </thead>\n",
              "  <tbody>\n",
              "    <tr>\n",
              "      <th>0</th>\n",
              "      <td>-0.579818</td>\n",
              "      <td>2.769459</td>\n",
              "      <td>50</td>\n",
              "      <td>-1.386294</td>\n",
              "      <td>-1.386294</td>\n",
              "      <td>6</td>\n",
              "      <td>0</td>\n",
              "      <td>-0.430783</td>\n",
              "      <td>0</td>\n",
              "    </tr>\n",
              "    <tr>\n",
              "      <th>1</th>\n",
              "      <td>-0.994252</td>\n",
              "      <td>3.319626</td>\n",
              "      <td>58</td>\n",
              "      <td>-1.386294</td>\n",
              "      <td>-1.386294</td>\n",
              "      <td>6</td>\n",
              "      <td>0</td>\n",
              "      <td>-0.162519</td>\n",
              "      <td>0</td>\n",
              "    </tr>\n",
              "    <tr>\n",
              "      <th>2</th>\n",
              "      <td>-0.510826</td>\n",
              "      <td>2.691243</td>\n",
              "      <td>74</td>\n",
              "      <td>-1.386294</td>\n",
              "      <td>-1.386294</td>\n",
              "      <td>7</td>\n",
              "      <td>20</td>\n",
              "      <td>-0.162519</td>\n",
              "      <td>0</td>\n",
              "    </tr>\n",
              "    <tr>\n",
              "      <th>3</th>\n",
              "      <td>-1.203973</td>\n",
              "      <td>3.282789</td>\n",
              "      <td>58</td>\n",
              "      <td>-1.386294</td>\n",
              "      <td>-1.386294</td>\n",
              "      <td>6</td>\n",
              "      <td>0</td>\n",
              "      <td>-0.162519</td>\n",
              "      <td>0</td>\n",
              "    </tr>\n",
              "    <tr>\n",
              "      <th>4</th>\n",
              "      <td>0.751416</td>\n",
              "      <td>3.432373</td>\n",
              "      <td>62</td>\n",
              "      <td>-1.386294</td>\n",
              "      <td>-1.386294</td>\n",
              "      <td>6</td>\n",
              "      <td>0</td>\n",
              "      <td>0.371564</td>\n",
              "      <td>0</td>\n",
              "    </tr>\n",
              "  </tbody>\n",
              "</table>\n",
              "</div>\n",
              "    <div class=\"colab-df-buttons\">\n",
              "\n",
              "  <div class=\"colab-df-container\">\n",
              "    <button class=\"colab-df-convert\" onclick=\"convertToInteractive('df-ea9604b7-33fe-4a65-9587-fae65a8cfa1b')\"\n",
              "            title=\"Convert this dataframe to an interactive table.\"\n",
              "            style=\"display:none;\">\n",
              "\n",
              "  <svg xmlns=\"http://www.w3.org/2000/svg\" height=\"24px\" viewBox=\"0 -960 960 960\">\n",
              "    <path d=\"M120-120v-720h720v720H120Zm60-500h600v-160H180v160Zm220 220h160v-160H400v160Zm0 220h160v-160H400v160ZM180-400h160v-160H180v160Zm440 0h160v-160H620v160ZM180-180h160v-160H180v160Zm440 0h160v-160H620v160Z\"/>\n",
              "  </svg>\n",
              "    </button>\n",
              "\n",
              "  <style>\n",
              "    .colab-df-container {\n",
              "      display:flex;\n",
              "      gap: 12px;\n",
              "    }\n",
              "\n",
              "    .colab-df-convert {\n",
              "      background-color: #E8F0FE;\n",
              "      border: none;\n",
              "      border-radius: 50%;\n",
              "      cursor: pointer;\n",
              "      display: none;\n",
              "      fill: #1967D2;\n",
              "      height: 32px;\n",
              "      padding: 0 0 0 0;\n",
              "      width: 32px;\n",
              "    }\n",
              "\n",
              "    .colab-df-convert:hover {\n",
              "      background-color: #E2EBFA;\n",
              "      box-shadow: 0px 1px 2px rgba(60, 64, 67, 0.3), 0px 1px 3px 1px rgba(60, 64, 67, 0.15);\n",
              "      fill: #174EA6;\n",
              "    }\n",
              "\n",
              "    .colab-df-buttons div {\n",
              "      margin-bottom: 4px;\n",
              "    }\n",
              "\n",
              "    [theme=dark] .colab-df-convert {\n",
              "      background-color: #3B4455;\n",
              "      fill: #D2E3FC;\n",
              "    }\n",
              "\n",
              "    [theme=dark] .colab-df-convert:hover {\n",
              "      background-color: #434B5C;\n",
              "      box-shadow: 0px 1px 3px 1px rgba(0, 0, 0, 0.15);\n",
              "      filter: drop-shadow(0px 1px 2px rgba(0, 0, 0, 0.3));\n",
              "      fill: #FFFFFF;\n",
              "    }\n",
              "  </style>\n",
              "\n",
              "    <script>\n",
              "      const buttonEl =\n",
              "        document.querySelector('#df-ea9604b7-33fe-4a65-9587-fae65a8cfa1b button.colab-df-convert');\n",
              "      buttonEl.style.display =\n",
              "        google.colab.kernel.accessAllowed ? 'block' : 'none';\n",
              "\n",
              "      async function convertToInteractive(key) {\n",
              "        const element = document.querySelector('#df-ea9604b7-33fe-4a65-9587-fae65a8cfa1b');\n",
              "        const dataTable =\n",
              "          await google.colab.kernel.invokeFunction('convertToInteractive',\n",
              "                                                    [key], {});\n",
              "        if (!dataTable) return;\n",
              "\n",
              "        const docLinkHtml = 'Like what you see? Visit the ' +\n",
              "          '<a target=\"_blank\" href=https://colab.research.google.com/notebooks/data_table.ipynb>data table notebook</a>'\n",
              "          + ' to learn more about interactive tables.';\n",
              "        element.innerHTML = '';\n",
              "        dataTable['output_type'] = 'display_data';\n",
              "        await google.colab.output.renderOutput(dataTable, element);\n",
              "        const docLink = document.createElement('div');\n",
              "        docLink.innerHTML = docLinkHtml;\n",
              "        element.appendChild(docLink);\n",
              "      }\n",
              "    </script>\n",
              "  </div>\n",
              "\n",
              "\n",
              "<div id=\"df-e0098886-c61d-46df-8d85-ff031f5b436a\">\n",
              "  <button class=\"colab-df-quickchart\" onclick=\"quickchart('df-e0098886-c61d-46df-8d85-ff031f5b436a')\"\n",
              "            title=\"Suggest charts\"\n",
              "            style=\"display:none;\">\n",
              "\n",
              "<svg xmlns=\"http://www.w3.org/2000/svg\" height=\"24px\"viewBox=\"0 0 24 24\"\n",
              "     width=\"24px\">\n",
              "    <g>\n",
              "        <path d=\"M19 3H5c-1.1 0-2 .9-2 2v14c0 1.1.9 2 2 2h14c1.1 0 2-.9 2-2V5c0-1.1-.9-2-2-2zM9 17H7v-7h2v7zm4 0h-2V7h2v10zm4 0h-2v-4h2v4z\"/>\n",
              "    </g>\n",
              "</svg>\n",
              "  </button>\n",
              "\n",
              "<style>\n",
              "  .colab-df-quickchart {\n",
              "      --bg-color: #E8F0FE;\n",
              "      --fill-color: #1967D2;\n",
              "      --hover-bg-color: #E2EBFA;\n",
              "      --hover-fill-color: #174EA6;\n",
              "      --disabled-fill-color: #AAA;\n",
              "      --disabled-bg-color: #DDD;\n",
              "  }\n",
              "\n",
              "  [theme=dark] .colab-df-quickchart {\n",
              "      --bg-color: #3B4455;\n",
              "      --fill-color: #D2E3FC;\n",
              "      --hover-bg-color: #434B5C;\n",
              "      --hover-fill-color: #FFFFFF;\n",
              "      --disabled-bg-color: #3B4455;\n",
              "      --disabled-fill-color: #666;\n",
              "  }\n",
              "\n",
              "  .colab-df-quickchart {\n",
              "    background-color: var(--bg-color);\n",
              "    border: none;\n",
              "    border-radius: 50%;\n",
              "    cursor: pointer;\n",
              "    display: none;\n",
              "    fill: var(--fill-color);\n",
              "    height: 32px;\n",
              "    padding: 0;\n",
              "    width: 32px;\n",
              "  }\n",
              "\n",
              "  .colab-df-quickchart:hover {\n",
              "    background-color: var(--hover-bg-color);\n",
              "    box-shadow: 0 1px 2px rgba(60, 64, 67, 0.3), 0 1px 3px 1px rgba(60, 64, 67, 0.15);\n",
              "    fill: var(--button-hover-fill-color);\n",
              "  }\n",
              "\n",
              "  .colab-df-quickchart-complete:disabled,\n",
              "  .colab-df-quickchart-complete:disabled:hover {\n",
              "    background-color: var(--disabled-bg-color);\n",
              "    fill: var(--disabled-fill-color);\n",
              "    box-shadow: none;\n",
              "  }\n",
              "\n",
              "  .colab-df-spinner {\n",
              "    border: 2px solid var(--fill-color);\n",
              "    border-color: transparent;\n",
              "    border-bottom-color: var(--fill-color);\n",
              "    animation:\n",
              "      spin 1s steps(1) infinite;\n",
              "  }\n",
              "\n",
              "  @keyframes spin {\n",
              "    0% {\n",
              "      border-color: transparent;\n",
              "      border-bottom-color: var(--fill-color);\n",
              "      border-left-color: var(--fill-color);\n",
              "    }\n",
              "    20% {\n",
              "      border-color: transparent;\n",
              "      border-left-color: var(--fill-color);\n",
              "      border-top-color: var(--fill-color);\n",
              "    }\n",
              "    30% {\n",
              "      border-color: transparent;\n",
              "      border-left-color: var(--fill-color);\n",
              "      border-top-color: var(--fill-color);\n",
              "      border-right-color: var(--fill-color);\n",
              "    }\n",
              "    40% {\n",
              "      border-color: transparent;\n",
              "      border-right-color: var(--fill-color);\n",
              "      border-top-color: var(--fill-color);\n",
              "    }\n",
              "    60% {\n",
              "      border-color: transparent;\n",
              "      border-right-color: var(--fill-color);\n",
              "    }\n",
              "    80% {\n",
              "      border-color: transparent;\n",
              "      border-right-color: var(--fill-color);\n",
              "      border-bottom-color: var(--fill-color);\n",
              "    }\n",
              "    90% {\n",
              "      border-color: transparent;\n",
              "      border-bottom-color: var(--fill-color);\n",
              "    }\n",
              "  }\n",
              "</style>\n",
              "\n",
              "  <script>\n",
              "    async function quickchart(key) {\n",
              "      const quickchartButtonEl =\n",
              "        document.querySelector('#' + key + ' button');\n",
              "      quickchartButtonEl.disabled = true;  // To prevent multiple clicks.\n",
              "      quickchartButtonEl.classList.add('colab-df-spinner');\n",
              "      try {\n",
              "        const charts = await google.colab.kernel.invokeFunction(\n",
              "            'suggestCharts', [key], {});\n",
              "      } catch (error) {\n",
              "        console.error('Error during call to suggestCharts:', error);\n",
              "      }\n",
              "      quickchartButtonEl.classList.remove('colab-df-spinner');\n",
              "      quickchartButtonEl.classList.add('colab-df-quickchart-complete');\n",
              "    }\n",
              "    (() => {\n",
              "      let quickchartButtonEl =\n",
              "        document.querySelector('#df-e0098886-c61d-46df-8d85-ff031f5b436a button');\n",
              "      quickchartButtonEl.style.display =\n",
              "        google.colab.kernel.accessAllowed ? 'block' : 'none';\n",
              "    })();\n",
              "  </script>\n",
              "</div>\n",
              "\n",
              "    </div>\n",
              "  </div>\n"
            ],
            "application/vnd.google.colaboratory.intrinsic+json": {
              "type": "dataframe",
              "variable_name": "df",
              "summary": "{\n  \"name\": \"df\",\n  \"rows\": 97,\n  \"fields\": [\n    {\n      \"column\": \"lcavol\",\n      \"properties\": {\n        \"dtype\": \"number\",\n        \"std\": 1.1786248779882171,\n        \"min\": -1.347073648,\n        \"max\": 3.821003607,\n        \"num_unique_values\": 93,\n        \"samples\": [\n          1.442201993,\n          -0.544727175,\n          0.463734016\n        ],\n        \"semantic_type\": \"\",\n        \"description\": \"\"\n      }\n    },\n    {\n      \"column\": \"lweight\",\n      \"properties\": {\n        \"dtype\": \"number\",\n        \"std\": 0.4284112298343627,\n        \"min\": 2.374906,\n        \"max\": 4.780383,\n        \"num_unique_values\": 88,\n        \"samples\": [\n          3.709907,\n          2.769459,\n          3.865979\n        ],\n        \"semantic_type\": \"\",\n        \"description\": \"\"\n      }\n    },\n    {\n      \"column\": \"age\",\n      \"properties\": {\n        \"dtype\": \"number\",\n        \"std\": 7,\n        \"min\": 41,\n        \"max\": 79,\n        \"num_unique_values\": 31,\n        \"samples\": [\n          78,\n          69,\n          43\n        ],\n        \"semantic_type\": \"\",\n        \"description\": \"\"\n      }\n    },\n    {\n      \"column\": \"lbph\",\n      \"properties\": {\n        \"dtype\": \"number\",\n        \"std\": 1.4508066254348597,\n        \"min\": -1.38629436,\n        \"max\": 2.32630162,\n        \"num_unique_values\": 42,\n        \"samples\": [\n          2.12226154,\n          1.96290773,\n          0.43825493\n        ],\n        \"semantic_type\": \"\",\n        \"description\": \"\"\n      }\n    },\n    {\n      \"column\": \"lcp\",\n      \"properties\": {\n        \"dtype\": \"number\",\n        \"std\": 1.398249620768834,\n        \"min\": -1.38629436,\n        \"max\": 2.90416508,\n        \"num_unique_values\": 30,\n        \"samples\": [\n          2.46385324,\n          0.50077529,\n          2.32727771\n        ],\n        \"semantic_type\": \"\",\n        \"description\": \"\"\n      }\n    },\n    {\n      \"column\": \"gleason\",\n      \"properties\": {\n        \"dtype\": \"number\",\n        \"std\": 0,\n        \"min\": 6,\n        \"max\": 9,\n        \"num_unique_values\": 4,\n        \"samples\": [\n          7,\n          9,\n          6\n        ],\n        \"semantic_type\": \"\",\n        \"description\": \"\"\n      }\n    },\n    {\n      \"column\": \"pgg45\",\n      \"properties\": {\n        \"dtype\": \"number\",\n        \"std\": 28,\n        \"min\": 0,\n        \"max\": 100,\n        \"num_unique_values\": 19,\n        \"samples\": [\n          0,\n          70,\n          100\n        ],\n        \"semantic_type\": \"\",\n        \"description\": \"\"\n      }\n    },\n    {\n      \"column\": \"lpsa\",\n      \"properties\": {\n        \"dtype\": \"number\",\n        \"std\": 1.154329074998996,\n        \"min\": -0.4307829,\n        \"max\": 5.5829322,\n        \"num_unique_values\": 85,\n        \"samples\": [\n          4.029806,\n          -0.4307829,\n          3.5160131\n        ],\n        \"semantic_type\": \"\",\n        \"description\": \"\"\n      }\n    },\n    {\n      \"column\": \"Target\",\n      \"properties\": {\n        \"dtype\": \"number\",\n        \"std\": 0,\n        \"min\": 0,\n        \"max\": 1,\n        \"num_unique_values\": 2,\n        \"samples\": [\n          1,\n          0\n        ],\n        \"semantic_type\": \"\",\n        \"description\": \"\"\n      }\n    }\n  ]\n}"
            }
          },
          "metadata": {},
          "execution_count": 5
        }
      ],
      "source": [
        "df.head()"
      ]
    },
    {
      "cell_type": "code",
      "execution_count": 6,
      "metadata": {
        "colab": {
          "base_uri": "https://localhost:8080/"
        },
        "id": "61Hb8ANUY15c",
        "outputId": "9595ddc0-0a2f-4821-f56b-074aa0741b41"
      },
      "outputs": [
        {
          "output_type": "execute_result",
          "data": {
            "text/plain": [
              "Index(['lcavol', 'lweight', 'age', 'lbph', 'lcp', 'gleason', 'pgg45', 'lpsa',\n",
              "       'Target'],\n",
              "      dtype='object')"
            ]
          },
          "metadata": {},
          "execution_count": 6
        }
      ],
      "source": [
        "df.columns"
      ]
    },
    {
      "cell_type": "markdown",
      "metadata": {
        "id": "JhYD5IhrY15c"
      },
      "source": [
        "# RandomForest Classifier"
      ]
    },
    {
      "cell_type": "code",
      "execution_count": 7,
      "metadata": {
        "colab": {
          "base_uri": "https://localhost:8080/",
          "height": 564
        },
        "id": "4mcXUGELY15d",
        "outputId": "bfe45a14-2472-4ca2-c37b-3d7051835629"
      },
      "outputs": [
        {
          "output_type": "display_data",
          "data": {
            "text/plain": [
              "<Figure size 800x600 with 1 Axes>"
            ],
            "image/png": "[encoded data removed]"
          },
          "metadata": {}
        }
      ],
      "source": [
        "from sklearn.model_selection import train_test_split, GridSearchCV\n",
        "from sklearn.ensemble import RandomForestClassifier\n",
        "from sklearn.preprocessing import StandardScaler\n",
        "from sklearn.decomposition import PCA\n",
        "from sklearn.metrics import accuracy_score, classification_report, confusion_matrix, roc_curve, auc\n",
        "import matplotlib.pyplot as plt\n",
        "\n",
        "\n",
        "\n",
        "# Split the data into training, validation, and testing sets\n",
        "X = df.drop('Target', axis=1)\n",
        "y = df['Target']\n",
        "X_temp, X_test, y_temp, y_test = train_test_split(X, y, test_size=0.2, random_state=42)\n",
        "X_train, X_val, y_train, y_val = train_test_split(X_temp, y_temp, test_size=0.25, random_state=42)\n",
        "\n",
        "# Data preprocessing: Standardization\n",
        "scaler = StandardScaler()\n",
        "X_train_scaled = scaler.fit_transform(X_train)\n",
        "X_val_scaled = scaler.transform(X_val)\n",
        "X_test_scaled = scaler.transform(X_test)\n",
        "\n",
        "# Dimensionality reduction: PCA\n",
        "pca = PCA(n_components=5)\n",
        "X_train_pca = pca.fit_transform(X_train_scaled)\n",
        "X_val_pca = pca.transform(X_val_scaled)\n",
        "X_test_pca = pca.transform(X_test_scaled)\n",
        "\n",
        "\n",
        "# Hyperparameter tuning using GridSearchCV\n",
        "param_grid = {\n",
        "    'n_estimators': [100, 200, 300],\n",
        "    'max_depth': [None, 5, 10],\n",
        "    'min_samples_split': [2, 5, 10],\n",
        "    'min_samples_leaf': [1, 5, 10]\n",
        "}\n",
        "\n",
        "grid_search = GridSearchCV(RandomForestClassifier(random_state=42), param_grid, cv=5, scoring='accuracy')\n",
        "grid_search.fit(X_train_pca, y_train)\n",
        "\n",
        "# Get the best hyperparameters and train a new model\n",
        "best_params = grid_search.best_params_\n",
        "rf = RandomForestClassifier(**best_params, random_state=42)\n",
        "rf.fit(X_train_pca, y_train)\n",
        "\n",
        "\n",
        "# Make predictions on the validation and test sets\n",
        "y_val_pred = rf.predict(X_val_pca)\n",
        "y_test_pred = rf.predict(X_test_pca)\n",
        "\n",
        "# Evaluate the model on validation set\n",
        "val_accuracy = accuracy_score(y_val, y_val_pred)\n",
        "val_class_report = classification_report(y_val, y_val_pred)\n",
        "val_confusion_matrix = confusion_matrix(y_val, y_val_pred)\n",
        "\n",
        "# Evaluate the model on test set\n",
        "test_accuracy = accuracy_score(y_test, y_test_pred)\n",
        "test_class_report = classification_report(y_test, y_test_pred)\n",
        "test_confusion_matrix = confusion_matrix(y_test, y_test_pred)\n",
        "\n",
        "\n",
        "# Compute ROC-AUC curve\n",
        "y_val_pred_proba = rf.predict_proba(X_val_pca)[:, 1]\n",
        "fpr, tpr, _ = roc_curve(y_val, y_val_pred_proba)\n",
        "auc_val = auc(fpr, tpr)\n",
        "\n",
        "plt.figure(figsize=(8, 6))\n",
        "plt.plot(fpr, tpr, color='darkorange', lw=2, label='ROC curve (area = %0.2f)' % auc_val)\n",
        "plt.plot([0, 1], [0, 1], color='navy', lw=2, linestyle='--')\n",
        "plt.xlim([0.0, 1.0])\n",
        "plt.ylim([0.0, 1.05])\n",
        "plt.xlabel('False Positive Rate')\n",
        "plt.ylabel('True Positive Rate')\n",
        "plt.title('Receiver operating characteristic for the RandomForest Classifier')\n",
        "plt.legend(loc=\"lower right\")\n",
        "plt.show()\n"
      ]
    },
    {
      "cell_type": "markdown",
      "metadata": {
        "id": "hWxj6zBpY15e"
      },
      "source": [
        "**Observation:**\n",
        "\n",
        "The chart above is a ROC curve for a Random Forest Classifier with an Area Under Curve (AUC) of 0.97\n",
        "\n",
        "The AUC of 0.97 is an excellent score that indicates the RandomForest model has a very high discriminative power.\n",
        "\n",
        "The model is effective in distinguishing between the positive and negative classes"
      ]
    },
    {
      "cell_type": "code",
      "execution_count": 8,
      "metadata": {
        "colab": {
          "base_uri": "https://localhost:8080/"
        },
        "id": "ZgqIbU1GY15e",
        "outputId": "d6241c3c-60be-4c93-a670-fbcb35518b04"
      },
      "outputs": [
        {
          "output_type": "stream",
          "name": "stdout",
          "text": [
            "              precision    recall  f1-score   support\n",
            "\n",
            "           0       0.88      0.94      0.91        16\n",
            "           1       0.67      0.50      0.57         4\n",
            "\n",
            "    accuracy                           0.85        20\n",
            "   macro avg       0.77      0.72      0.74        20\n",
            "weighted avg       0.84      0.85      0.84        20\n",
            "\n"
          ]
        }
      ],
      "source": [
        "print(test_class_report)"
      ]
    },
    {
      "cell_type": "code",
      "execution_count": 9,
      "metadata": {
        "colab": {
          "base_uri": "https://localhost:8080/"
        },
        "id": "H0rMoftnY15f",
        "outputId": "37219916-1925-4723-ea1b-bf63adb903a7"
      },
      "outputs": [
        {
          "output_type": "stream",
          "name": "stdout",
          "text": [
            "[[15  1]\n",
            " [ 2  2]]\n"
          ]
        }
      ],
      "source": [
        "print(test_confusion_matrix)"
      ]
    },
    {
      "cell_type": "markdown",
      "metadata": {
        "id": "3HatWSjtY15g"
      },
      "source": [
        "# Xgboost Classifier"
      ]
    },
    {
      "cell_type": "code",
      "execution_count": 10,
      "metadata": {
        "colab": {
          "base_uri": "https://localhost:8080/"
        },
        "id": "--Orl2LhY15g",
        "outputId": "94cec1ba-cdb5-4622-d149-aa67fe17d580"
      },
      "outputs": [
        {
          "output_type": "stream",
          "name": "stdout",
          "text": [
            "Accuracy: 0.8\n",
            "Classification Report:\n",
            "              precision    recall  f1-score   support\n",
            "\n",
            "           0       0.88      0.88      0.88        16\n",
            "           1       0.50      0.50      0.50         4\n",
            "\n",
            "    accuracy                           0.80        20\n",
            "   macro avg       0.69      0.69      0.69        20\n",
            "weighted avg       0.80      0.80      0.80        20\n",
            "\n",
            "Confusion Matrix:\n",
            "[[14  2]\n",
            " [ 2  2]]\n"
          ]
        }
      ],
      "source": [
        "from xgboost import XGBClassifier\n",
        "\n",
        "\n",
        "# Split the data into training and testing sets\n",
        "X = df.drop('Target', axis=1)\n",
        "y = df['Target']\n",
        "X_train, X_test, y_train, y_test = train_test_split(X, y, test_size=0.2, random_state=42)\n",
        "\n",
        "# Apply PCA to reduce dimensionality\n",
        "pca = PCA(n_components=5)\n",
        "X_train_pca = pca.fit_transform(X_train)\n",
        "X_test_pca = pca.transform(X_test)\n",
        "\n",
        "# Define hyperparameter grid for XGBoost\n",
        "param_grid = {\n",
        "    'max_depth': [3, 5, 7],\n",
        "    'learning_rate': [0.1, 0.5, 1],\n",
        "    'n_estimators': [50, 100, 200],\n",
        "    'gamma': [0, 0.25, 1.0],\n",
        "    'subsample': [0.5, 0.75, 1],\n",
        "    'colsample_bytree': [0.5, 0.75, 1],\n",
        "    'reg_alpha': [0, 0.1, 0.5],\n",
        "    'reg_lambda': [0, 0.1, 0.5]\n",
        "}\n",
        "\n",
        "# Perform hyperparameter optimization using GridSearchCV\n",
        "grid_search = GridSearchCV(XGBClassifier(), param_grid, cv=5, scoring='accuracy')\n",
        "grid_search.fit(X_train_pca, y_train)\n",
        "\n",
        "# Get the best hyperparameters and train a new model\n",
        "best_params = grid_search.best_params_\n",
        "xgb = XGBClassifier(**best_params)\n",
        "xgb.fit(X_train_pca, y_train)\n",
        "\n",
        "# Make predictions on the test set\n",
        "y_pred = xgb.predict(X_test_pca)\n",
        "\n",
        "# Evaluate the model\n",
        "accuracy = accuracy_score(y_test, y_pred)\n",
        "print(\"Accuracy:\", accuracy)\n",
        "print(\"Classification Report:\")\n",
        "print(classification_report(y_test, y_pred))\n",
        "print(\"Confusion Matrix:\")\n",
        "print(confusion_matrix(y_test, y_pred))\n"
      ]
    },
    {
      "cell_type": "code",
      "execution_count": 11,
      "metadata": {
        "colab": {
          "base_uri": "https://localhost:8080/",
          "height": 564
        },
        "id": "hEc_LoBYY15h",
        "outputId": "6cbed4c2-38da-4937-a4f9-f61682782eb9"
      },
      "outputs": [
        {
          "output_type": "display_data",
          "data": {
            "text/plain": [
              "<Figure size 1000x600 with 1 Axes>"
            ],
            "image/png": "[encoded data removed]"
          },
          "metadata": {}
        }
      ],
      "source": [
        "# Compute predicted probabilities for the test set\n",
        "y_pred_proba = xgb.predict_proba(X_test_pca)[:, 1]\n",
        "\n",
        "\n",
        "# Plot the ROC curve and calculate the AUC\n",
        "fpr, tpr, thresholds = roc_curve(y_test, y_pred_proba)\n",
        "roc_auc = auc(fpr, tpr)\n",
        "\n",
        "plt.figure(figsize=(10, 6))\n",
        "plt.plot(fpr, tpr, color='blue', label='ROC curve (area = %0.2f)' % roc_auc)\n",
        "plt.plot([0, 1], [0, 1], color='red', linestyle='--')\n",
        "plt.xlim([0.0, 1.0])\n",
        "plt.ylim([0.0, 1.05])\n",
        "plt.xlabel('False Positive Rate')\n",
        "plt.ylabel('True Positive Rate')\n",
        "plt.title('Receiver Operating Characteristic for Xgboost Classifier')\n",
        "plt.legend(loc='lower right')\n",
        "plt.show()"
      ]
    },
    {
      "cell_type": "markdown",
      "metadata": {
        "id": "6nTAigK2Y15h"
      },
      "source": [
        "Observation:\n",
        "\n",
        "The AUC of 0.59 indicates that the XGBoost model has limited discriminative power between the positive and negative classes\n",
        "\n",
        "The ROC curve indicates that the model's True Positive Rate (sensitivity) is not increasing significantly as the False Positive Rate increases, which could indicate that the model is not performing well"
      ]
    },
    {
      "cell_type": "markdown",
      "metadata": {
        "id": "QfoBUTOCY15i"
      },
      "source": [
        "# Decision Tree Classifier"
      ]
    },
    {
      "cell_type": "code",
      "execution_count": 12,
      "metadata": {
        "colab": {
          "base_uri": "https://localhost:8080/",
          "height": 74
        },
        "id": "yQan3pUsY15i",
        "outputId": "2e595caf-333c-4207-d636-b9f195957a21"
      },
      "outputs": [
        {
          "output_type": "execute_result",
          "data": {
            "text/plain": [
              "DecisionTreeClassifier(min_samples_leaf=5, random_state=42)"
            ],
            "text/html": [
              "<style>#sk-container-id-1 {color: black;}#sk-container-id-1 pre{padding: 0;}#sk-container-id-1 div.sk-toggleable {background-color: white;}#sk-container-id-1 label.sk-toggleable__label {cursor: pointer;display: block;width: 100%;margin-bottom: 0;padding: 0.3em;box-sizing: border-box;text-align: center;}#sk-container-id-1 label.sk-toggleable__label-arrow:before {content: \"▸\";float: left;margin-right: 0.25em;color: #696969;}#sk-container-id-1 label.sk-toggleable__label-arrow:hover:before {color: black;}#sk-container-id-1 div.sk-estimator:hover label.sk-toggleable__label-arrow:before {color: black;}#sk-container-id-1 div.sk-toggleable__content {max-height: 0;max-width: 0;overflow: hidden;text-align: left;background-color: #f0f8ff;}#sk-container-id-1 div.sk-toggleable__content pre {margin: 0.2em;color: black;border-radius: 0.25em;background-color: #f0f8ff;}#sk-container-id-1 input.sk-toggleable__control:checked~div.sk-toggleable__content {max-height: 200px;max-width: 100%;overflow: auto;}#sk-container-id-1 input.sk-toggleable__control:checked~label.sk-toggleable__label-arrow:before {content: \"▾\";}#sk-container-id-1 div.sk-estimator input.sk-toggleable__control:checked~label.sk-toggleable__label {background-color: #d4ebff;}#sk-container-id-1 div.sk-label input.sk-toggleable__control:checked~label.sk-toggleable__label {background-color: #d4ebff;}#sk-container-id-1 input.sk-hidden--visually {border: 0;clip: rect(1px 1px 1px 1px);clip: rect(1px, 1px, 1px, 1px);height: 1px;margin: -1px;overflow: hidden;padding: 0;position: absolute;width: 1px;}#sk-container-id-1 div.sk-estimator {font-family: monospace;background-color: #f0f8ff;border: 1px dotted black;border-radius: 0.25em;box-sizing: border-box;margin-bottom: 0.5em;}#sk-container-id-1 div.sk-estimator:hover {background-color: #d4ebff;}#sk-container-id-1 div.sk-parallel-item::after {content: \"\";width: 100%;border-bottom: 1px solid gray;flex-grow: 1;}#sk-container-id-1 div.sk-label:hover label.sk-toggleable__label {background-color: #d4ebff;}#sk-container-id-1 div.sk-serial::before {content: \"\";position: absolute;border-left: 1px solid gray;box-sizing: border-box;top: 0;bottom: 0;left: 50%;z-index: 0;}#sk-container-id-1 div.sk-serial {display: flex;flex-direction: column;align-items: center;background-color: white;padding-right: 0.2em;padding-left: 0.2em;position: relative;}#sk-container-id-1 div.sk-item {position: relative;z-index: 1;}#sk-container-id-1 div.sk-parallel {display: flex;align-items: stretch;justify-content: center;background-color: white;position: relative;}#sk-container-id-1 div.sk-item::before, #sk-container-id-1 div.sk-parallel-item::before {content: \"\";position: absolute;border-left: 1px solid gray;box-sizing: border-box;top: 0;bottom: 0;left: 50%;z-index: -1;}#sk-container-id-1 div.sk-parallel-item {display: flex;flex-direction: column;z-index: 1;position: relative;background-color: white;}#sk-container-id-1 div.sk-parallel-item:first-child::after {align-self: flex-end;width: 50%;}#sk-container-id-1 div.sk-parallel-item:last-child::after {align-self: flex-start;width: 50%;}#sk-container-id-1 div.sk-parallel-item:only-child::after {width: 0;}#sk-container-id-1 div.sk-dashed-wrapped {border: 1px dashed gray;margin: 0 0.4em 0.5em 0.4em;box-sizing: border-box;padding-bottom: 0.4em;background-color: white;}#sk-container-id-1 div.sk-label label {font-family: monospace;font-weight: bold;display: inline-block;line-height: 1.2em;}#sk-container-id-1 div.sk-label-container {text-align: center;}#sk-container-id-1 div.sk-container {/* jupyter's `normalize.less` sets `[hidden] { display: none; }` but bootstrap.min.css set `[hidden] { display: none !important; }` so we also need the `!important` here to be able to override the default hidden behavior on the sphinx rendered scikit-learn.org. See: https://github.com/scikit-learn/scikit-learn/issues/21755 */display: inline-block !important;position: relative;}#sk-container-id-1 div.sk-text-repr-fallback {display: none;}</style><div id=\"sk-container-id-1\" class=\"sk-top-container\"><div class=\"sk-text-repr-fallback\"><pre>DecisionTreeClassifier(min_samples_leaf=5, random_state=42)</pre><b>In a Jupyter environment, please rerun this cell to show the HTML representation or trust the notebook. <br />On GitHub, the HTML representation is unable to render, please try loading this page with nbviewer.org.</b></div><div class=\"sk-container\" hidden><div class=\"sk-item\"><div class=\"sk-estimator sk-toggleable\"><input class=\"sk-toggleable__control sk-hidden--visually\" id=\"sk-estimator-id-1\" type=\"checkbox\" checked><label for=\"sk-estimator-id-1\" class=\"sk-toggleable__label sk-toggleable__label-arrow\">DecisionTreeClassifier</label><div class=\"sk-toggleable__content\"><pre>DecisionTreeClassifier(min_samples_leaf=5, random_state=42)</pre></div></div></div></div></div>"
            ]
          },
          "metadata": {},
          "execution_count": 12
        }
      ],
      "source": [
        "\n",
        "from sklearn.tree import DecisionTreeClassifier\n",
        "# Split the data into training, validation, and testing sets\n",
        "X = df.drop('Target', axis=1)\n",
        "y = df['Target']\n",
        "X_temp, X_test, y_temp, y_test = train_test_split(X, y, test_size=0.2, random_state=42)\n",
        "X_train, X_val, y_train, y_val = train_test_split(X_temp, y_temp, test_size=0.25, random_state=42)\n",
        "\n",
        "# Apply PCA to reduce dimensionality\n",
        "pca = PCA(n_components=5)\n",
        "X_train_pca = pca.fit_transform(X_train)\n",
        "X_val_pca = pca.transform(X_val)\n",
        "X_test_pca = pca.transform(X_test)\n",
        "\n",
        "# Define hyperparameter grid for Decision Tree\n",
        "param_grid = {\n",
        "    'max_depth': [None, 5, 10, 15],\n",
        "    'min_samples_split': [2, 5, 10],\n",
        "    'min_samples_leaf': [1, 2, 5],\n",
        "}\n",
        "\n",
        "# Perform hyperparameter optimization using GridSearchCV\n",
        "grid_search = GridSearchCV(DecisionTreeClassifier(random_state=42), param_grid, cv=5, scoring='accuracy')\n",
        "grid_search.fit(X_train_pca, y_train)\n",
        "\n",
        "# Get the best hyperparameters and train a new model\n",
        "best_params = grid_search.best_params_\n",
        "dt = DecisionTreeClassifier(**best_params, random_state=42)\n",
        "dt.fit(X_train_pca, y_train)\n",
        "\n"
      ]
    },
    {
      "cell_type": "code",
      "execution_count": 13,
      "metadata": {
        "colab": {
          "base_uri": "https://localhost:8080/"
        },
        "id": "CMfCCRAjY15i",
        "outputId": "5f826920-6eda-4f2f-c953-b3750550369b"
      },
      "outputs": [
        {
          "output_type": "execute_result",
          "data": {
            "text/plain": [
              "{'max_depth': None, 'min_samples_leaf': 5, 'min_samples_split': 2}"
            ]
          },
          "metadata": {},
          "execution_count": 13
        }
      ],
      "source": [
        "best_params"
      ]
    },
    {
      "cell_type": "code",
      "execution_count": 14,
      "metadata": {
        "colab": {
          "base_uri": "https://localhost:8080/"
        },
        "id": "AV6J8TL8Y15j",
        "outputId": "781764a7-d93d-4d61-f0e2-a7dbb171d444"
      },
      "outputs": [
        {
          "output_type": "stream",
          "name": "stdout",
          "text": [
            "Test Accuracy: 0.9\n",
            "Test Classification Report:\n",
            "              precision    recall  f1-score   support\n",
            "\n",
            "           0       0.89      1.00      0.94        16\n",
            "           1       1.00      0.50      0.67         4\n",
            "\n",
            "    accuracy                           0.90        20\n",
            "   macro avg       0.94      0.75      0.80        20\n",
            "weighted avg       0.91      0.90      0.89        20\n",
            "\n",
            "Test Confusion Matrix:\n",
            "[[16  0]\n",
            " [ 2  2]]\n"
          ]
        }
      ],
      "source": [
        "# Make predictions on the validation and test sets\n",
        "y_val_pred = dt.predict(X_val_pca)\n",
        "y_test_pred = dt.predict(X_test_pca)\n",
        "\n",
        "\n",
        "# Evaluate the model on test set\n",
        "test_accuracy = accuracy_score(y_test, y_test_pred)\n",
        "print(\"Test Accuracy:\", test_accuracy)\n",
        "print(\"Test Classification Report:\")\n",
        "print(classification_report(y_test, y_test_pred))\n",
        "print(\"Test Confusion Matrix:\")\n",
        "print(confusion_matrix(y_test, y_test_pred))"
      ]
    },
    {
      "cell_type": "code",
      "execution_count": 15,
      "metadata": {
        "colab": {
          "base_uri": "https://localhost:8080/",
          "height": 564
        },
        "id": "xnaYaQ7VY15j",
        "outputId": "497d71c9-dafc-46c4-cc7e-bab40825067c"
      },
      "outputs": [
        {
          "output_type": "display_data",
          "data": {
            "text/plain": [
              "<Figure size 800x600 with 1 Axes>"
            ],
            "image/png": "[encoded data removed]"
          },
          "metadata": {}
        }
      ],
      "source": [
        "# Plot ROC curve\n",
        "y_val_pred_proba = dt.predict_proba(X_val_pca)[:, 1]\n",
        "fpr, tpr, _ = roc_curve(y_val, y_val_pred_proba)\n",
        "roc_auc = auc(fpr, tpr)\n",
        "\n",
        "plt.figure(figsize=(8, 6))\n",
        "plt.plot(fpr, tpr, color='darkorange', lw=2, label=f'ROC curve (AUC = {roc_auc:.2f})')\n",
        "plt.plot([0, 1], [0, 1], color='navy', lw=2, linestyle='--')\n",
        "plt.xlim([0.0, 1.0])\n",
        "plt.ylim([0.0, 1.05])\n",
        "plt.xlabel('False Positive Rate')\n",
        "plt.ylabel('True Positive Rate')\n",
        "plt.title('Receiver Operating Characteristic (ROC) Curve for Decision Tree')\n",
        "plt.legend(loc=\"lower right\")\n",
        "plt.show()"
      ]
    },
    {
      "cell_type": "markdown",
      "metadata": {
        "id": "9Wh4hM3hY15k"
      },
      "source": [
        "Observation:\n",
        "\n",
        "The AUC value of 0.49 is very close to 0.5. This means that the model has close to no discriminative power which could also mean the model is equivalent to random guessing\n",
        "\n",
        "THe ROC curve seems to be flat and close to the diagonal(the dashed line), which indicates that the model can't effectively distinguish between the positive and negative class.\n",
        "\n",
        "This Decision Tree model is underperforming and not suitable for the prediction task"
      ]
    },
    {
      "cell_type": "markdown",
      "metadata": {
        "id": "Y-O2YiLEY15k"
      },
      "source": [
        "# Which model is the best to use?"
      ]
    },
    {
      "cell_type": "markdown",
      "metadata": {
        "id": "5pyaLyJCY15k"
      },
      "source": [
        "Based on the ROC curves and the AUC values for the three models:\n",
        "\n",
        "- Decison Tree Classifier: AUC = 0.49\n",
        "- XGBoost Classifier: AUC = 0.59\n",
        "- Random Forest Classifier: AUC = 0.97\n",
        "\n",
        "The Random Forest Classifier is the best model to use, it has the highest AUC score, which means that it has good discriminative power and performance"
      ]
    },
    {
      "cell_type": "code",
      "execution_count": 16,
      "metadata": {
        "colab": {
          "base_uri": "https://localhost:8080/"
        },
        "id": "BwZPEh_XY15k",
        "outputId": "a80ea798-df9a-47a5-9d81-8865aa8f0472"
      },
      "outputs": [
        {
          "output_type": "execute_result",
          "data": {
            "text/plain": [
              "['rf_model.sav']"
            ]
          },
          "metadata": {},
          "execution_count": 16
        }
      ],
      "source": [
        "# saving the model, scaler and pca as a .sav file\n",
        "import joblib\n",
        "\n",
        "joblib.dump(scaler, 'scaler.sav')\n",
        "joblib.dump(pca, 'pca.sav')\n",
        "joblib.dump(rf, 'rf_model.sav')"
      ]
    },
    {
      "cell_type": "code",
      "execution_count": 17,
      "metadata": {
        "id": "E4N5tqm_Y15l"
      },
      "outputs": [],
      "source": [
        "# loading the model, scaler and pca\n",
        "scaler = joblib.load('scaler.sav')\n",
        "pca = joblib.load('pca.sav')\n",
        "rf_model = joblib.load('rf_model.sav')\n",
        "new_data = [[-0.579818495, 2.769459, 70, -1.38629436, -1.38629436, 6, 0, -0.4307829]]\n",
        "\n",
        "\n",
        "new_data_scaled = scaler.transform(new_data)\n",
        "\n"
      ]
    },
    {
      "cell_type": "code",
      "execution_count": 18,
      "metadata": {
        "id": "_bmjirdbY15l"
      },
      "outputs": [],
      "source": [
        "new_data_pca = pca.transform(new_data_scaled)"
      ]
    },
    {
      "cell_type": "code",
      "execution_count": 19,
      "metadata": {
        "id": "KACiBvjrY15m"
      },
      "outputs": [],
      "source": [
        "prediction = rf_model.predict(new_data_pca)"
      ]
    },
    {
      "cell_type": "code",
      "execution_count": 20,
      "metadata": {
        "colab": {
          "base_uri": "https://localhost:8080/"
        },
        "id": "pOa6Qc0xY15n",
        "outputId": "bd69ccb2-4d90-4617-efbd-b2a7c52c6275"
      },
      "outputs": [
        {
          "output_type": "execute_result",
          "data": {
            "text/plain": [
              "array([0])"
            ]
          },
          "metadata": {},
          "execution_count": 20
        }
      ],
      "source": [
        "prediction"
      ]
    },
    {
      "cell_type": "markdown",
      "metadata": {
        "id": "RoiLIYd7Y15n"
      },
      "source": [
        "# Building the RNN Model"
      ]
    },
    {
      "cell_type": "code",
      "execution_count": 21,
      "metadata": {
        "id": "VuqrgC89Y15n"
      },
      "outputs": [],
      "source": [
        "import torch\n",
        "import torch.nn as nn\n",
        "import torch.optim as optim\n",
        "from torch.utils.data import DataLoader, TensorDataset\n",
        "\n",
        "\n",
        "\n",
        "# Split the data into training, validation, and testing sets\n",
        "X = df.drop('Target', axis=1)\n",
        "y = df['Target']\n",
        "X_temp, X_test, y_temp, y_test = train_test_split(X, y, test_size=0.2, random_state=42)\n",
        "X_train, X_val, y_train, y_val = train_test_split(X_temp, y_temp, test_size=0.25, random_state=42)\n",
        "\n",
        "# convert data to pytorch tensors\n",
        "X_train_tensor = torch.FloatTensor(X_train.values)\n",
        "X_val_tensor = torch.FloatTensor(X_val.values)\n",
        "X_test_tensor = torch.FloatTensor(X_test.values)\n",
        "y_train_tensor = torch.LongTensor(y_train.values)\n",
        "y_val_tensor = torch.LongTensor(y_val.values)\n",
        "y_test_tensor = torch.LongTensor(y_test.values)\n",
        "\n",
        "# Data preprocessing: Standardization\n",
        "scaler = StandardScaler()\n",
        "X_train_scaled = scaler.fit_transform(X_train)\n",
        "X_val_scaled = scaler.transform(X_val)\n",
        "X_test_scaled = scaler.transform(X_test)\n",
        "\n",
        "\n",
        "# convert scaled data to pytorch tensors\n",
        "X_train_tensor = torch.FloatTensor(X_train_scaled)\n",
        "X_val_tensor = torch.FloatTensor(X_val_scaled)\n",
        "X_test_tensor = torch.FloatTensor(X_test_scaled)\n",
        "\n",
        "\n",
        "# creating a DataLoader objects\n",
        "train_dataset = TensorDataset(X_train_tensor, y_train_tensor)\n",
        "val_dataset = TensorDataset(X_val_tensor, y_val_tensor)\n",
        "test_dataset = TensorDataset(X_test_tensor, y_test_tensor)\n",
        "\n",
        "\n",
        "batch_size = 16\n",
        "\n",
        "train_loader = DataLoader(train_dataset, batch_size=batch_size, shuffle=True)\n",
        "\n",
        "val_loader = DataLoader(val_dataset, batch_size=batch_size)\n",
        "\n",
        "test_loader = DataLoader(test_dataset, batch_size=batch_size)\n",
        "\n"
      ]
    },
    {
      "cell_type": "code",
      "execution_count": 22,
      "metadata": {
        "id": "Mlygm0BUY15o"
      },
      "outputs": [],
      "source": [
        "# RNN Model\n",
        "\n",
        "class RNNModel(nn.Module):\n",
        "    def __init__(self, input_size, hidden_size, num_layers, num_classes):\n",
        "        super(RNNModel, self).__init__()\n",
        "        self.hidden_size = hidden_size\n",
        "        self.num_layers = num_layers\n",
        "        self.rnn = nn.RNN(input_size, hidden_size, num_layers, batch_first=True)\n",
        "        self.fc = nn.Linear(hidden_size, num_classes)\n",
        "\n",
        "    def forward(self, x):\n",
        "        h0 = torch.zeros(self.num_layers, x.size(0),\n",
        "                         self.hidden_size).to(x.device)\n",
        "        out, _ = self.rnn(x, h0)\n",
        "        out = self.fc(out[:, -1, :])\n",
        "\n",
        "        return out"
      ]
    },
    {
      "cell_type": "code",
      "execution_count": 23,
      "metadata": {
        "id": "f2ZvrZ6kY15o"
      },
      "outputs": [],
      "source": [
        "# hyperparameters\n",
        "input_size = 8\n",
        "hidden_size = 64\n",
        "num_layers = 2\n",
        "num_classes = 2\n",
        "\n",
        "model = RNNModel(input_size, hidden_size, num_layers, num_classes)"
      ]
    },
    {
      "cell_type": "code",
      "execution_count": 24,
      "metadata": {
        "id": "1eWsFDQdY15o"
      },
      "outputs": [],
      "source": [
        "def train_model(model, train_loader, val_loader, criterion, optimizer, num_epochs):\n",
        "    for epoch in range(num_epochs):\n",
        "        model.train()\n",
        "        train_loss = 0.0\n",
        "        for inputs, labels in train_loader:\n",
        "            inputs = inputs.unsqueeze(1)\n",
        "            optimizer.zero_grad()\n",
        "            outputs = model(inputs)\n",
        "            loss = criterion(outputs, labels)\n",
        "            loss.backward()\n",
        "            optimizer.step()\n",
        "            train_loss += loss.item()\n",
        "\n",
        "        # Validation\n",
        "        model.eval()\n",
        "        val_loss = 0.0\n",
        "        correct = 0\n",
        "        total = 0\n",
        "        with torch.no_grad():\n",
        "            for inputs, labels in val_loader:\n",
        "                inputs = inputs.unsqueeze(1)\n",
        "                outputs = model(inputs)\n",
        "                loss = criterion(outputs, labels)\n",
        "                val_loss += loss.item()\n",
        "                _, predicted = torch.max(outputs.data, 1)\n",
        "                total += labels.size(0)\n",
        "                correct += (predicted == labels).sum().item()\n",
        "\n",
        "        val_accuracy = 100 * correct / total\n",
        "        print(f'Epoch [{epoch+1}/{num_epochs}], Train Loss: {train_loss:.4f}, Val Loss: {val_loss:.4f}, Val Accuracy: {val_accuracy:.2f}%')\n"
      ]
    },
    {
      "cell_type": "code",
      "execution_count": 25,
      "metadata": {
        "colab": {
          "base_uri": "https://localhost:8080/"
        },
        "id": "VPqhaaWrY15p",
        "outputId": "b0d43b4c-fd7e-45d6-933b-12a253d098dd"
      },
      "outputs": [
        {
          "output_type": "stream",
          "name": "stdout",
          "text": [
            "Epoch [1/100], Train Loss: 2.7889, Val Loss: 1.2987, Val Accuracy: 85.00%\n",
            "Epoch [2/100], Train Loss: 2.4870, Val Loss: 1.1802, Val Accuracy: 95.00%\n",
            "Epoch [3/100], Train Loss: 2.2254, Val Loss: 1.0671, Val Accuracy: 95.00%\n",
            "Epoch [4/100], Train Loss: 2.0167, Val Loss: 0.9542, Val Accuracy: 95.00%\n",
            "Epoch [5/100], Train Loss: 1.8100, Val Loss: 0.8422, Val Accuracy: 100.00%\n",
            "Epoch [6/100], Train Loss: 1.5420, Val Loss: 0.7345, Val Accuracy: 100.00%\n",
            "Epoch [7/100], Train Loss: 1.3561, Val Loss: 0.6392, Val Accuracy: 100.00%\n",
            "Epoch [8/100], Train Loss: 1.1519, Val Loss: 0.5574, Val Accuracy: 100.00%\n",
            "Epoch [9/100], Train Loss: 1.0810, Val Loss: 0.4922, Val Accuracy: 100.00%\n",
            "Epoch [10/100], Train Loss: 1.0112, Val Loss: 0.4406, Val Accuracy: 100.00%\n",
            "Epoch [11/100], Train Loss: 0.9693, Val Loss: 0.3876, Val Accuracy: 95.00%\n",
            "Epoch [12/100], Train Loss: 0.9130, Val Loss: 0.3599, Val Accuracy: 95.00%\n",
            "Epoch [13/100], Train Loss: 0.8831, Val Loss: 0.3335, Val Accuracy: 95.00%\n",
            "Epoch [14/100], Train Loss: 0.8771, Val Loss: 0.3224, Val Accuracy: 95.00%\n",
            "Epoch [15/100], Train Loss: 0.7932, Val Loss: 0.3079, Val Accuracy: 95.00%\n",
            "Epoch [16/100], Train Loss: 0.8222, Val Loss: 0.2986, Val Accuracy: 95.00%\n",
            "Epoch [17/100], Train Loss: 0.8360, Val Loss: 0.2915, Val Accuracy: 90.00%\n",
            "Epoch [18/100], Train Loss: 0.8296, Val Loss: 0.2862, Val Accuracy: 90.00%\n",
            "Epoch [19/100], Train Loss: 0.9193, Val Loss: 0.2824, Val Accuracy: 90.00%\n",
            "Epoch [20/100], Train Loss: 0.7516, Val Loss: 0.2847, Val Accuracy: 90.00%\n",
            "Epoch [21/100], Train Loss: 0.7081, Val Loss: 0.2841, Val Accuracy: 90.00%\n",
            "Epoch [22/100], Train Loss: 0.7466, Val Loss: 0.2841, Val Accuracy: 90.00%\n",
            "Epoch [23/100], Train Loss: 0.7697, Val Loss: 0.2840, Val Accuracy: 90.00%\n",
            "Epoch [24/100], Train Loss: 0.6671, Val Loss: 0.2873, Val Accuracy: 95.00%\n",
            "Epoch [25/100], Train Loss: 0.6970, Val Loss: 0.2913, Val Accuracy: 95.00%\n",
            "Epoch [26/100], Train Loss: 0.6603, Val Loss: 0.2922, Val Accuracy: 95.00%\n",
            "Epoch [27/100], Train Loss: 0.7237, Val Loss: 0.2898, Val Accuracy: 95.00%\n",
            "Epoch [28/100], Train Loss: 0.6908, Val Loss: 0.2909, Val Accuracy: 95.00%\n",
            "Epoch [29/100], Train Loss: 0.9022, Val Loss: 0.2876, Val Accuracy: 95.00%\n",
            "Epoch [30/100], Train Loss: 0.7502, Val Loss: 0.2827, Val Accuracy: 90.00%\n",
            "Epoch [31/100], Train Loss: 0.6636, Val Loss: 0.2792, Val Accuracy: 90.00%\n",
            "Epoch [32/100], Train Loss: 0.7039, Val Loss: 0.2767, Val Accuracy: 90.00%\n",
            "Epoch [33/100], Train Loss: 0.6524, Val Loss: 0.2728, Val Accuracy: 90.00%\n",
            "Epoch [34/100], Train Loss: 0.7212, Val Loss: 0.2717, Val Accuracy: 90.00%\n",
            "Epoch [35/100], Train Loss: 0.7504, Val Loss: 0.2724, Val Accuracy: 90.00%\n",
            "Epoch [36/100], Train Loss: 0.7447, Val Loss: 0.2711, Val Accuracy: 90.00%\n",
            "Epoch [37/100], Train Loss: 0.7742, Val Loss: 0.2671, Val Accuracy: 90.00%\n",
            "Epoch [38/100], Train Loss: 0.7696, Val Loss: 0.2688, Val Accuracy: 90.00%\n",
            "Epoch [39/100], Train Loss: 0.6720, Val Loss: 0.2708, Val Accuracy: 90.00%\n",
            "Epoch [40/100], Train Loss: 0.6500, Val Loss: 0.2743, Val Accuracy: 90.00%\n",
            "Epoch [41/100], Train Loss: 0.6980, Val Loss: 0.2757, Val Accuracy: 90.00%\n",
            "Epoch [42/100], Train Loss: 0.6966, Val Loss: 0.2800, Val Accuracy: 90.00%\n",
            "Epoch [43/100], Train Loss: 0.7281, Val Loss: 0.2840, Val Accuracy: 90.00%\n",
            "Epoch [44/100], Train Loss: 0.6385, Val Loss: 0.2778, Val Accuracy: 90.00%\n",
            "Epoch [45/100], Train Loss: 0.6110, Val Loss: 0.2758, Val Accuracy: 90.00%\n",
            "Epoch [46/100], Train Loss: 0.7536, Val Loss: 0.2763, Val Accuracy: 90.00%\n",
            "Epoch [47/100], Train Loss: 0.6824, Val Loss: 0.2841, Val Accuracy: 90.00%\n",
            "Epoch [48/100], Train Loss: 0.6766, Val Loss: 0.2880, Val Accuracy: 90.00%\n",
            "Epoch [49/100], Train Loss: 0.7350, Val Loss: 0.2897, Val Accuracy: 95.00%\n",
            "Epoch [50/100], Train Loss: 0.7616, Val Loss: 0.2931, Val Accuracy: 95.00%\n",
            "Epoch [51/100], Train Loss: 0.6214, Val Loss: 0.3063, Val Accuracy: 95.00%\n",
            "Epoch [52/100], Train Loss: 0.6431, Val Loss: 0.3043, Val Accuracy: 95.00%\n",
            "Epoch [53/100], Train Loss: 0.6311, Val Loss: 0.3032, Val Accuracy: 95.00%\n",
            "Epoch [54/100], Train Loss: 0.6641, Val Loss: 0.2914, Val Accuracy: 90.00%\n",
            "Epoch [55/100], Train Loss: 0.7333, Val Loss: 0.2791, Val Accuracy: 90.00%\n",
            "Epoch [56/100], Train Loss: 0.7125, Val Loss: 0.2722, Val Accuracy: 90.00%\n",
            "Epoch [57/100], Train Loss: 0.6978, Val Loss: 0.2771, Val Accuracy: 85.00%\n",
            "Epoch [58/100], Train Loss: 0.6105, Val Loss: 0.2885, Val Accuracy: 90.00%\n",
            "Epoch [59/100], Train Loss: 0.7560, Val Loss: 0.2907, Val Accuracy: 95.00%\n",
            "Epoch [60/100], Train Loss: 0.7245, Val Loss: 0.2891, Val Accuracy: 90.00%\n",
            "Epoch [61/100], Train Loss: 0.5820, Val Loss: 0.2986, Val Accuracy: 95.00%\n",
            "Epoch [62/100], Train Loss: 0.6003, Val Loss: 0.3085, Val Accuracy: 95.00%\n",
            "Epoch [63/100], Train Loss: 0.6135, Val Loss: 0.3037, Val Accuracy: 95.00%\n",
            "Epoch [64/100], Train Loss: 0.6791, Val Loss: 0.3005, Val Accuracy: 95.00%\n",
            "Epoch [65/100], Train Loss: 0.7591, Val Loss: 0.2843, Val Accuracy: 90.00%\n",
            "Epoch [66/100], Train Loss: 0.6809, Val Loss: 0.2817, Val Accuracy: 85.00%\n",
            "Epoch [67/100], Train Loss: 0.6518, Val Loss: 0.2836, Val Accuracy: 85.00%\n",
            "Epoch [68/100], Train Loss: 0.6745, Val Loss: 0.2889, Val Accuracy: 90.00%\n",
            "Epoch [69/100], Train Loss: 0.6040, Val Loss: 0.2994, Val Accuracy: 95.00%\n",
            "Epoch [70/100], Train Loss: 0.7637, Val Loss: 0.3029, Val Accuracy: 95.00%\n",
            "Epoch [71/100], Train Loss: 0.6724, Val Loss: 0.2974, Val Accuracy: 95.00%\n",
            "Epoch [72/100], Train Loss: 0.5942, Val Loss: 0.3015, Val Accuracy: 95.00%\n",
            "Epoch [73/100], Train Loss: 0.5828, Val Loss: 0.2996, Val Accuracy: 95.00%\n",
            "Epoch [74/100], Train Loss: 0.6541, Val Loss: 0.2966, Val Accuracy: 95.00%\n",
            "Epoch [75/100], Train Loss: 0.6246, Val Loss: 0.2936, Val Accuracy: 95.00%\n",
            "Epoch [76/100], Train Loss: 0.6700, Val Loss: 0.2882, Val Accuracy: 95.00%\n",
            "Epoch [77/100], Train Loss: 0.5815, Val Loss: 0.3004, Val Accuracy: 95.00%\n",
            "Epoch [78/100], Train Loss: 0.6844, Val Loss: 0.3043, Val Accuracy: 95.00%\n",
            "Epoch [79/100], Train Loss: 0.5809, Val Loss: 0.3285, Val Accuracy: 95.00%\n",
            "Epoch [80/100], Train Loss: 0.6517, Val Loss: 0.3308, Val Accuracy: 95.00%\n",
            "Epoch [81/100], Train Loss: 0.6965, Val Loss: 0.3464, Val Accuracy: 90.00%\n",
            "Epoch [82/100], Train Loss: 0.6407, Val Loss: 0.3307, Val Accuracy: 95.00%\n",
            "Epoch [83/100], Train Loss: 0.6917, Val Loss: 0.3265, Val Accuracy: 95.00%\n",
            "Epoch [84/100], Train Loss: 0.6736, Val Loss: 0.3291, Val Accuracy: 95.00%\n",
            "Epoch [85/100], Train Loss: 0.7465, Val Loss: 0.3443, Val Accuracy: 90.00%\n",
            "Epoch [86/100], Train Loss: 0.5667, Val Loss: 0.3503, Val Accuracy: 90.00%\n",
            "Epoch [87/100], Train Loss: 0.5710, Val Loss: 0.3349, Val Accuracy: 95.00%\n",
            "Epoch [88/100], Train Loss: 0.5951, Val Loss: 0.3327, Val Accuracy: 95.00%\n",
            "Epoch [89/100], Train Loss: 0.6524, Val Loss: 0.3206, Val Accuracy: 95.00%\n",
            "Epoch [90/100], Train Loss: 0.5952, Val Loss: 0.3321, Val Accuracy: 95.00%\n",
            "Epoch [91/100], Train Loss: 0.6460, Val Loss: 0.3420, Val Accuracy: 90.00%\n",
            "Epoch [92/100], Train Loss: 0.6829, Val Loss: 0.3648, Val Accuracy: 90.00%\n",
            "Epoch [93/100], Train Loss: 0.5524, Val Loss: 0.3379, Val Accuracy: 95.00%\n",
            "Epoch [94/100], Train Loss: 0.5987, Val Loss: 0.3192, Val Accuracy: 95.00%\n",
            "Epoch [95/100], Train Loss: 0.5544, Val Loss: 0.3353, Val Accuracy: 95.00%\n",
            "Epoch [96/100], Train Loss: 0.6299, Val Loss: 0.3411, Val Accuracy: 90.00%\n",
            "Epoch [97/100], Train Loss: 0.5835, Val Loss: 0.3499, Val Accuracy: 90.00%\n",
            "Epoch [98/100], Train Loss: 0.5939, Val Loss: 0.3487, Val Accuracy: 95.00%\n",
            "Epoch [99/100], Train Loss: 0.6766, Val Loss: 0.3299, Val Accuracy: 95.00%\n",
            "Epoch [100/100], Train Loss: 0.6458, Val Loss: 0.3314, Val Accuracy: 95.00%\n"
          ]
        }
      ],
      "source": [
        "# Loss function and optimizer\n",
        "criterion = nn.CrossEntropyLoss()\n",
        "optimizer = optim.Adam(model.parameters(), lr=0.001)\n",
        "\n",
        "# Train the model\n",
        "num_epochs = 100\n",
        "train_model(model, train_loader, val_loader, criterion, optimizer, num_epochs)\n"
      ]
    },
    {
      "cell_type": "code",
      "execution_count": 26,
      "metadata": {
        "colab": {
          "base_uri": "https://localhost:8080/"
        },
        "id": "ZRgj_sKwY15p",
        "outputId": "ca1c36b3-5563-46d6-e08d-954ee7ffa429"
      },
      "outputs": [
        {
          "output_type": "stream",
          "name": "stdout",
          "text": [
            "Test Loss: 0.7944, Test Accuracy: 85.00%\n"
          ]
        }
      ],
      "source": [
        "model.eval()\n",
        "test_loss = 0.0\n",
        "correct = 0\n",
        "total = 0\n",
        "with torch.no_grad():\n",
        "    for inputs, labels in test_loader:\n",
        "        inputs = inputs.unsqueeze(1)  # Add sequence dimension\n",
        "        outputs = model(inputs)\n",
        "        loss = criterion(outputs, labels)\n",
        "        test_loss += loss.item()\n",
        "        _, predicted = torch.max(outputs.data, 1)\n",
        "        total += labels.size(0)\n",
        "        correct += (predicted == labels).sum().item()\n",
        "\n",
        "test_accuracy = 100 * correct / total\n",
        "print(f'Test Loss: {test_loss:.4f}, Test Accuracy: {test_accuracy:.2f}%')\n"
      ]
    },
    {
      "cell_type": "code",
      "execution_count": 27,
      "metadata": {
        "colab": {
          "base_uri": "https://localhost:8080/"
        },
        "id": "xugYmT3iY15q",
        "outputId": "d9ba0a59-2dae-4c31-b125-7ab265a2ced7"
      },
      "outputs": [
        {
          "output_type": "stream",
          "name": "stdout",
          "text": [
            "Predicted class: 0\n"
          ]
        }
      ],
      "source": [
        "import torch\n",
        "\n",
        "# A New data to predict\n",
        "new_data = [[-0.579818495, 2.769459, 70, -1.38629436, -1.38629436, 6, 0, -0.4307829]]\n",
        "\n",
        "# Convert new data to a PyTorch tensor\n",
        "new_data_tensor = torch.FloatTensor(new_data)\n",
        "\n",
        "# Normalize the new data using the same scaler\n",
        "new_data_scaled = scaler.transform(new_data)\n",
        "new_data_tensor = torch.FloatTensor(new_data_scaled)\n",
        "\n",
        "# Add a sequence dimension (batch_size=1, sequence_length=1, input_size=8)\n",
        "new_data_tensor = new_data_tensor.unsqueeze(0)\n",
        "\n",
        "# make sure that the model is in evaluation mode\n",
        "model.eval()\n",
        "\n",
        "# Make predictions\n",
        "with torch.no_grad():\n",
        "    output = model(new_data_tensor)\n",
        "    _, predicted_class = torch.max(output, 1)\n",
        "\n",
        "# Print the predicted class\n",
        "print(f'Predicted class: {predicted_class.item()}')\n"
      ]
    },
    {
      "cell_type": "code",
      "execution_count": 28,
      "metadata": {
        "id": "-23VGoIKY15r"
      },
      "outputs": [],
      "source": [
        "torch.save(model, 'rnn_model.pth')"
      ]
    },
    {
      "cell_type": "code",
      "execution_count": 29,
      "metadata": {
        "colab": {
          "base_uri": "https://localhost:8080/"
        },
        "id": "qGh3V16pY15r",
        "outputId": "e45f42e4-e115-4a9c-d3b5-c686447bd6d4"
      },
      "outputs": [
        {
          "output_type": "stream",
          "name": "stdout",
          "text": [
            "Predicted class: 0\n"
          ]
        }
      ],
      "source": [
        "import torch\n",
        "import numpy as np\n",
        "import joblib\n",
        "from sklearn.preprocessing import StandardScaler\n",
        "\n",
        "\n",
        "# Load the trained RNN model\n",
        "model = torch.load('rnn_model.pth')\n",
        "\n",
        "# Set the model to evaluation mode\n",
        "model.eval()\n",
        "\n",
        "# New data for prediction\n",
        "new_data = [[-0.579818495, 2.769459, 70, -1.38629436, -1.38629436, 6, 0, -0.4307829]]\n",
        "\n",
        "# Load the scaler (assuming it was saved using joblib or similar)\n",
        "scaler = StandardScaler()\n",
        "\n",
        "scaler = joblib.load('scaler.sav')\n",
        "\n",
        "# Scale the new data\n",
        "new_data_scaled = scaler.transform(new_data)\n",
        "\n",
        "# Convert the new data to a PyTorch tensor and add the sequence dimension\n",
        "new_data_tensor = torch.FloatTensor(new_data_scaled).unsqueeze(0)\n",
        "\n",
        "# Make prediction\n",
        "with torch.no_grad():\n",
        "    output = model(new_data_tensor)\n",
        "    _, predicted_class = torch.max(output, 1)\n",
        "\n",
        "# Print the predicted class\n",
        "print(f'Predicted class: {predicted_class.item()}')\n"
      ]
    },
    {
      "cell_type": "code",
      "execution_count": 29,
      "metadata": {
        "id": "uefgmSc3Y15r"
      },
      "outputs": [],
      "source": []
    }
  ],
  "metadata": {
    "kernelspec": {
      "display_name": "Python 3",
      "name": "python3"
    },
    "language_info": {
      "codemirror_mode": {
        "name": "ipython",
        "version": 3
      },
      "file_extension": ".py",
      "mimetype": "text/x-python",
      "name": "python",
      "nbconvert_exporter": "python",
      "pygments_lexer": "ipython3",
      "version": "3.11.9"
    },
    "colab": {
      "provenance": [],
      "gpuType": "T4"
    },
    "accelerator": "GPU"
  },
  "nbformat": 4,
  "nbformat_minor": 0
}