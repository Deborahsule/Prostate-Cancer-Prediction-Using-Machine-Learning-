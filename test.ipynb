{
 "cells": [
  {
   "cell_type": "markdown",
   "metadata": {},
   "source": [
    "# Building a Prostrate Cancer Prediction Model"
   ]
  },
  {
   "cell_type": "code",
   "execution_count": 1,
   "metadata": {},
   "outputs": [],
   "source": [
    "import pandas as pd\n",
    "import numpy as np\n",
    "import warnings\n",
    "warnings.filterwarnings(\"ignore\")\n"
   ]
  },
  {
   "cell_type": "code",
   "execution_count": 2,
   "metadata": {},
   "outputs": [
    {
     "name": "stdout",
     "output_type": "stream",
     "text": [
      "<class 'pandas.core.frame.DataFrame'>\n",
      "RangeIndex: 97 entries, 0 to 96\n",
      "Data columns (total 9 columns):\n",
      " #   Column   Non-Null Count  Dtype  \n",
      "---  ------   --------------  -----  \n",
      " 0   lcavol   97 non-null     float64\n",
      " 1   lweight  97 non-null     float64\n",
      " 2   age      97 non-null     int64  \n",
      " 3   lbph     97 non-null     float64\n",
      " 4   lcp      97 non-null     float64\n",
      " 5   gleason  97 non-null     int64  \n",
      " 6   pgg45    97 non-null     int64  \n",
      " 7   lpsa     97 non-null     float64\n",
      " 8   Target   97 non-null     int64  \n",
      "dtypes: float64(5), int64(4)\n",
      "memory usage: 6.9 KB\n"
     ]
    }
   ],
   "source": [
    "df = pd.read_csv('prostate-cancer-data.csv')\n",
    "df.info()"
   ]
  },
  {
   "cell_type": "code",
   "execution_count": 3,
   "metadata": {},
   "outputs": [
    {
     "data": {
      "text/plain": [
       "Target\n",
       "0    76\n",
       "1    21\n",
       "Name: count, dtype: int64"
      ]
     },
     "execution_count": 3,
     "metadata": {},
     "output_type": "execute_result"
    }
   ],
   "source": [
    "df['Target'].value_counts()"
   ]
  },
  {
   "cell_type": "code",
   "execution_count": 4,
   "metadata": {},
   "outputs": [
    {
     "data": {
      "text/plain": [
       "lcavol     0\n",
       "lweight    0\n",
       "age        0\n",
       "lbph       0\n",
       "lcp        0\n",
       "gleason    0\n",
       "pgg45      0\n",
       "lpsa       0\n",
       "Target     0\n",
       "dtype: int64"
      ]
     },
     "execution_count": 4,
     "metadata": {},
     "output_type": "execute_result"
    }
   ],
   "source": [
    "df.isnull().sum()"
   ]
  },
  {
   "cell_type": "code",
   "execution_count": 5,
   "metadata": {},
   "outputs": [
    {
     "data": {
      "text/html": [
       "<div>\n",
       "<style scoped>\n",
       "    .dataframe tbody tr th:only-of-type {\n",
       "        vertical-align: middle;\n",
       "    }\n",
       "\n",
       "    .dataframe tbody tr th {\n",
       "        vertical-align: top;\n",
       "    }\n",
       "\n",
       "    .dataframe thead th {\n",
       "        text-align: right;\n",
       "    }\n",
       "</style>\n",
       "<table border=\"1\" class=\"dataframe\">\n",
       "  <thead>\n",
       "    <tr style=\"text-align: right;\">\n",
       "      <th></th>\n",
       "      <th>lcavol</th>\n",
       "      <th>lweight</th>\n",
       "      <th>age</th>\n",
       "      <th>lbph</th>\n",
       "      <th>lcp</th>\n",
       "      <th>gleason</th>\n",
       "      <th>pgg45</th>\n",
       "      <th>lpsa</th>\n",
       "      <th>Target</th>\n",
       "    </tr>\n",
       "  </thead>\n",
       "  <tbody>\n",
       "    <tr>\n",
       "      <th>0</th>\n",
       "      <td>-0.579818</td>\n",
       "      <td>2.769459</td>\n",
       "      <td>50</td>\n",
       "      <td>-1.386294</td>\n",
       "      <td>-1.386294</td>\n",
       "      <td>6</td>\n",
       "      <td>0</td>\n",
       "      <td>-0.430783</td>\n",
       "      <td>0</td>\n",
       "    </tr>\n",
       "    <tr>\n",
       "      <th>1</th>\n",
       "      <td>-0.994252</td>\n",
       "      <td>3.319626</td>\n",
       "      <td>58</td>\n",
       "      <td>-1.386294</td>\n",
       "      <td>-1.386294</td>\n",
       "      <td>6</td>\n",
       "      <td>0</td>\n",
       "      <td>-0.162519</td>\n",
       "      <td>0</td>\n",
       "    </tr>\n",
       "    <tr>\n",
       "      <th>2</th>\n",
       "      <td>-0.510826</td>\n",
       "      <td>2.691243</td>\n",
       "      <td>74</td>\n",
       "      <td>-1.386294</td>\n",
       "      <td>-1.386294</td>\n",
       "      <td>7</td>\n",
       "      <td>20</td>\n",
       "      <td>-0.162519</td>\n",
       "      <td>0</td>\n",
       "    </tr>\n",
       "    <tr>\n",
       "      <th>3</th>\n",
       "      <td>-1.203973</td>\n",
       "      <td>3.282789</td>\n",
       "      <td>58</td>\n",
       "      <td>-1.386294</td>\n",
       "      <td>-1.386294</td>\n",
       "      <td>6</td>\n",
       "      <td>0</td>\n",
       "      <td>-0.162519</td>\n",
       "      <td>0</td>\n",
       "    </tr>\n",
       "    <tr>\n",
       "      <th>4</th>\n",
       "      <td>0.751416</td>\n",
       "      <td>3.432373</td>\n",
       "      <td>62</td>\n",
       "      <td>-1.386294</td>\n",
       "      <td>-1.386294</td>\n",
       "      <td>6</td>\n",
       "      <td>0</td>\n",
       "      <td>0.371564</td>\n",
       "      <td>0</td>\n",
       "    </tr>\n",
       "  </tbody>\n",
       "</table>\n",
       "</div>"
      ],
      "text/plain": [
       "     lcavol   lweight  age      lbph       lcp  gleason  pgg45      lpsa  \\\n",
       "0 -0.579818  2.769459   50 -1.386294 -1.386294        6      0 -0.430783   \n",
       "1 -0.994252  3.319626   58 -1.386294 -1.386294        6      0 -0.162519   \n",
       "2 -0.510826  2.691243   74 -1.386294 -1.386294        7     20 -0.162519   \n",
       "3 -1.203973  3.282789   58 -1.386294 -1.386294        6      0 -0.162519   \n",
       "4  0.751416  3.432373   62 -1.386294 -1.386294        6      0  0.371564   \n",
       "\n",
       "   Target  \n",
       "0       0  \n",
       "1       0  \n",
       "2       0  \n",
       "3       0  \n",
       "4       0  "
      ]
     },
     "execution_count": 5,
     "metadata": {},
     "output_type": "execute_result"
    }
   ],
   "source": [
    "df.head()"
   ]
  },
  {
   "cell_type": "code",
   "execution_count": 6,
   "metadata": {},
   "outputs": [
    {
     "data": {
      "text/plain": [
       "Index(['lcavol', 'lweight', 'age', 'lbph', 'lcp', 'gleason', 'pgg45', 'lpsa',\n",
       "       'Target'],\n",
       "      dtype='object')"
      ]
     },
     "execution_count": 6,
     "metadata": {},
     "output_type": "execute_result"
    }
   ],
   "source": [
    "df.columns"
   ]
  },
  {
   "cell_type": "markdown",
   "metadata": {},
   "source": [
    "# RandomForest Classifier"
   ]
  },
  {
   "cell_type": "code",
   "execution_count": 4,
   "metadata": {},
   "outputs": [
    {
     "data": {
      "image/png": "[encoded data removed]",
      "text/plain": [
       "<Figure size 800x600 with 1 Axes>"
      ]
     },
     "metadata": {},
     "output_type": "display_data"
    }
   ],
   "source": [
    "from sklearn.model_selection import train_test_split, GridSearchCV\n",
    "from sklearn.ensemble import RandomForestClassifier\n",
    "from sklearn.preprocessing import StandardScaler\n",
    "from sklearn.decomposition import PCA\n",
    "from sklearn.metrics import accuracy_score, classification_report, confusion_matrix, roc_curve, auc\n",
    "from imblearn.over_sampling import SMOTE\n",
    "import matplotlib.pyplot as plt\n",
    "\n",
    "# Split the data into training, validation, and testing sets\n",
    "X = df.drop('Target', axis=1)\n",
    "y = df['Target']\n",
    "X_temp, X_test, y_temp, y_test = train_test_split(X, y, test_size=0.2, random_state=42)\n",
    "X_train, X_val, y_train, y_val = train_test_split(X_temp, y_temp, test_size=0.25, random_state=42)\n",
    "\n",
    "# Data preprocessing: Standardization\n",
    "scaler = StandardScaler()\n",
    "X_train_scaled = scaler.fit_transform(X_train)\n",
    "X_val_scaled = scaler.transform(X_val)\n",
    "X_test_scaled = scaler.transform(X_test)\n",
    "\n",
    "# Apply SMOTE to balance the training dataset\n",
    "smote = SMOTE(random_state=42)\n",
    "X_train_smote, y_train_smote = smote.fit_resample(X_train_scaled, y_train)\n",
    "\n",
    "# Dimensionality reduction: PCA\n",
    "pca = PCA(n_components=5)\n",
    "X_train_pca = pca.fit_transform(X_train_smote)\n",
    "X_val_pca = pca.transform(X_val_scaled)\n",
    "X_test_pca = pca.transform(X_test_scaled)\n",
    "\n",
    "# Hyperparameter tuning using GridSearchCV\n",
    "param_grid = {\n",
    "    'n_estimators': [100, 200, 300],\n",
    "    'max_depth': [None, 5, 10],\n",
    "    'min_samples_split': [2, 5, 10],\n",
    "    'min_samples_leaf': [1, 5, 10]\n",
    "}\n",
    "\n",
    "grid_search = GridSearchCV(RandomForestClassifier(random_state=42), param_grid, cv=5, scoring='accuracy')\n",
    "grid_search.fit(X_train_pca, y_train_smote)\n",
    "\n",
    "# Get the best hyperparameters and train a new model\n",
    "best_params = grid_search.best_params_\n",
    "rf = RandomForestClassifier(**best_params, random_state=42)\n",
    "rf.fit(X_train_pca, y_train_smote)\n",
    "\n",
    "# Make predictions on the validation and test sets\n",
    "y_val_pred = rf.predict(X_val_pca)\n",
    "y_test_pred = rf.predict(X_test_pca)\n",
    "\n",
    "# Evaluate the model on validation set\n",
    "val_accuracy = accuracy_score(y_val, y_val_pred)\n",
    "val_class_report = classification_report(y_val, y_val_pred)\n",
    "val_confusion_matrix = confusion_matrix(y_val, y_val_pred)\n",
    "\n",
    "# Evaluate the model on test set\n",
    "test_accuracy = accuracy_score(y_test, y_test_pred)\n",
    "test_class_report = classification_report(y_test, y_test_pred)\n",
    "test_confusion_matrix = confusion_matrix(y_test, y_test_pred)\n",
    "\n",
    "# Compute ROC-AUC curve\n",
    "y_val_pred_proba = rf.predict_proba(X_val_pca)[:, 1]\n",
    "fpr, tpr, _ = roc_curve(y_val, y_val_pred_proba)\n",
    "auc_val = auc(fpr, tpr)\n",
    "\n",
    "plt.figure(figsize=(8, 6))\n",
    "plt.plot(fpr, tpr, color='darkorange', lw=2, label='ROC curve (area = %0.2f)' % auc_val)\n",
    "plt.plot([0, 1], [0, 1], color='navy', lw=2, linestyle='--')\n",
    "plt.xlim([0.0, 1.0])\n",
    "plt.ylim([0.0, 1.05])\n",
    "plt.xlabel('False Positive Rate')\n",
    "plt.ylabel('True Positive Rate')\n",
    "plt.title('Receiver operating characteristic for the RandomForest Classifier')\n",
    "plt.legend(loc=\"lower right\")\n",
    "plt.show()\n"
   ]
  },
  {
   "cell_type": "markdown",
   "metadata": {},
   "source": [
    "**Observation:**\n",
    "\n",
    "Random Forest ROC Curve:\n",
    "AUC: 0.95.\n",
    "\n",
    "The Random Forest classifier shows the best performance among the three models with an AUC of 0.95, indicating that it has excellent classification capability and is very close to perfect discrimination.\n",
    "\n"
   ]
  },
  {
   "cell_type": "code",
   "execution_count": 5,
   "metadata": {},
   "outputs": [
    {
     "name": "stdout",
     "output_type": "stream",
     "text": [
      "              precision    recall  f1-score   support\n",
      "\n",
      "           0       0.89      1.00      0.94        16\n",
      "           1       1.00      0.50      0.67         4\n",
      "\n",
      "    accuracy                           0.90        20\n",
      "   macro avg       0.94      0.75      0.80        20\n",
      "weighted avg       0.91      0.90      0.89        20\n",
      "\n"
     ]
    }
   ],
   "source": [
    "print(test_class_report)"
   ]
  },
  {
   "cell_type": "code",
   "execution_count": 6,
   "metadata": {},
   "outputs": [
    {
     "name": "stdout",
     "output_type": "stream",
     "text": [
      "[[16  0]\n",
      " [ 2  2]]\n"
     ]
    }
   ],
   "source": [
    "print(test_confusion_matrix)"
   ]
  },
  {
   "cell_type": "code",
   "execution_count": 13,
   "metadata": {},
   "outputs": [
    {
     "data": {
      "text/plain": [
       "Target\n",
       "0    45\n",
       "1    45\n",
       "Name: count, dtype: int64"
      ]
     },
     "execution_count": 13,
     "metadata": {},
     "output_type": "execute_result"
    }
   ],
   "source": [
    "y_train_smote.value_counts()"
   ]
  },
  {
   "cell_type": "markdown",
   "metadata": {},
   "source": [
    "# Xgboost Classifier"
   ]
  },
  {
   "cell_type": "code",
   "execution_count": 15,
   "metadata": {},
   "outputs": [
    {
     "name": "stdout",
     "output_type": "stream",
     "text": [
      "Accuracy: 0.8\n",
      "Classification Report:\n",
      "              precision    recall  f1-score   support\n",
      "\n",
      "           0       0.93      0.81      0.87        16\n",
      "           1       0.50      0.75      0.60         4\n",
      "\n",
      "    accuracy                           0.80        20\n",
      "   macro avg       0.71      0.78      0.73        20\n",
      "weighted avg       0.84      0.80      0.81        20\n",
      "\n",
      "Confusion Matrix:\n",
      "[[13  3]\n",
      " [ 1  3]]\n"
     ]
    }
   ],
   "source": [
    "from xgboost import XGBClassifier\n",
    "from sklearn.model_selection import train_test_split, GridSearchCV\n",
    "from sklearn.decomposition import PCA\n",
    "from sklearn.metrics import accuracy_score, classification_report, confusion_matrix\n",
    "from imblearn.over_sampling import SMOTE\n",
    "import pandas as pd\n",
    "\n",
    "# Assuming df is your DataFrame containing the features and the target\n",
    "# Split the data into training and testing sets\n",
    "X = df.drop('Target', axis=1)\n",
    "y = df['Target']\n",
    "X_train, X_test, y_train, y_test = train_test_split(X, y, test_size=0.2, random_state=42)\n",
    "\n",
    "# Apply SMOTE to balance the training dataset\n",
    "smote = SMOTE(random_state=42)\n",
    "X_train_smote, y_train_smote = smote.fit_resample(X_train, y_train)\n",
    "\n",
    "# Apply PCA to reduce dimensionality\n",
    "pca = PCA(n_components=5)\n",
    "X_train_pca = pca.fit_transform(X_train_smote)\n",
    "X_test_pca = pca.transform(X_test)\n",
    "\n",
    "# Define hyperparameter grid for XGBoost\n",
    "param_grid = {\n",
    "    'max_depth': [3, 5, 7],\n",
    "    'learning_rate': [0.1, 0.5, 1],\n",
    "    'n_estimators': [50, 100, 200],\n",
    "    'gamma': [0, 0.25, 1.0],\n",
    "    'subsample': [0.5, 0.75, 1],\n",
    "    'colsample_bytree': [0.5, 0.75, 1],\n",
    "    'reg_alpha': [0, 0.1, 0.5],\n",
    "    'reg_lambda': [0, 0.1, 0.5]\n",
    "}\n",
    "\n",
    "# Perform hyperparameter optimization using GridSearchCV\n",
    "grid_search = GridSearchCV(XGBClassifier(), param_grid, cv=5, scoring='accuracy')\n",
    "grid_search.fit(X_train_pca, y_train_smote)\n",
    "\n",
    "# Get the best hyperparameters and train a new model\n",
    "best_params = grid_search.best_params_\n",
    "xgb = XGBClassifier(**best_params)\n",
    "xgb.fit(X_train_pca, y_train_smote)\n",
    "\n",
    "# Make predictions on the test set\n",
    "y_pred = xgb.predict(X_test_pca)\n",
    "\n",
    "# Evaluate the model\n",
    "accuracy = accuracy_score(y_test, y_pred)\n",
    "print(\"Accuracy:\", accuracy)\n",
    "print(\"Classification Report:\")\n",
    "print(classification_report(y_test, y_pred))\n",
    "print(\"Confusion Matrix:\")\n",
    "print(confusion_matrix(y_test, y_pred))\n"
   ]
  },
  {
   "cell_type": "code",
   "execution_count": 16,
   "metadata": {},
   "outputs": [
    {
     "data": {
      "image/png": "[encoded data removed]",
      "text/plain": [
       "<Figure size 1000x600 with 1 Axes>"
      ]
     },
     "metadata": {},
     "output_type": "display_data"
    }
   ],
   "source": [
    "# Compute predicted probabilities for the test set\n",
    "y_pred_proba = xgb.predict_proba(X_test_pca)[:, 1]\n",
    "\n",
    "\n",
    "# Plot the ROC curve and calculate the AUC\n",
    "fpr, tpr, thresholds = roc_curve(y_test, y_pred_proba)\n",
    "roc_auc = auc(fpr, tpr)\n",
    "\n",
    "plt.figure(figsize=(10, 6))\n",
    "plt.plot(fpr, tpr, color='blue', label='ROC curve (area = %0.2f)' % roc_auc)\n",
    "plt.plot([0, 1], [0, 1], color='red', linestyle='--')\n",
    "plt.xlim([0.0, 1.0])\n",
    "plt.ylim([0.0, 1.05])\n",
    "plt.xlabel('False Positive Rate')\n",
    "plt.ylabel('True Positive Rate')\n",
    "plt.title('Receiver Operating Characteristic for Xgboost Classifier')\n",
    "plt.legend(loc='lower right')\n",
    "plt.show()"
   ]
  },
  {
   "cell_type": "markdown",
   "metadata": {},
   "source": [
    "Observation: \n",
    "\n",
    "XGBoost ROC Curve:\n",
    "\n",
    "AUC: 0.84.\n",
    "\n",
    "This curve shows a stepwise pattern with better performance than the decision tree, and the AUC of 0.84 suggests that the XGBoost model has better classification ability."
   ]
  },
  {
   "cell_type": "markdown",
   "metadata": {},
   "source": [
    "# Decision Tree Classifier"
   ]
  },
  {
   "cell_type": "code",
   "execution_count": 15,
   "metadata": {},
   "outputs": [
    {
     "name": "stdout",
     "output_type": "stream",
     "text": [
      "Test Accuracy: 0.8\n",
      "Test Classification Report:\n",
      "               precision    recall  f1-score   support\n",
      "\n",
      "           0       0.88      0.88      0.88        16\n",
      "           1       0.50      0.50      0.50         4\n",
      "\n",
      "    accuracy                           0.80        20\n",
      "   macro avg       0.69      0.69      0.69        20\n",
      "weighted avg       0.80      0.80      0.80        20\n",
      "\n",
      "Test Confusion Matrix:\n",
      " [[14  2]\n",
      " [ 2  2]]\n"
     ]
    }
   ],
   "source": [
    "from sklearn.tree import DecisionTreeClassifier\n",
    "from sklearn.model_selection import train_test_split, GridSearchCV\n",
    "from sklearn.decomposition import PCA\n",
    "from sklearn.metrics import accuracy_score, classification_report, confusion_matrix, roc_curve, auc\n",
    "from imblearn.over_sampling import SMOTE\n",
    "import pandas as pd\n",
    "import matplotlib.pyplot as plt\n",
    "\n",
    "# Assuming df is your DataFrame containing the features and the target\n",
    "# Split the data into training, validation, and testing sets\n",
    "X = df.drop('Target', axis=1)\n",
    "y = df['Target']\n",
    "X_temp, X_test, y_temp, y_test = train_test_split(X, y, test_size=0.2, random_state=42)\n",
    "X_train, X_val, y_train, y_val = train_test_split(X_temp, y_temp, test_size=0.25, random_state=42)\n",
    "\n",
    "# Apply SMOTE to balance the training dataset\n",
    "smote = SMOTE(random_state=42)\n",
    "X_train_smote, y_train_smote = smote.fit_resample(X_train, y_train)\n",
    "\n",
    "# Apply PCA to reduce dimensionality\n",
    "pca = PCA(n_components=5)\n",
    "X_train_pca = pca.fit_transform(X_train_smote)\n",
    "X_val_pca = pca.transform(X_val)\n",
    "X_test_pca = pca.transform(X_test)\n",
    "\n",
    "# Define hyperparameter grid for Decision Tree\n",
    "param_grid = {\n",
    "    'max_depth': [None, 5, 10, 15],\n",
    "    'min_samples_split': [2, 5, 10],\n",
    "    'min_samples_leaf': [1, 2, 5],\n",
    "}\n",
    "\n",
    "# Perform hyperparameter optimization using GridSearchCV\n",
    "grid_search = GridSearchCV(DecisionTreeClassifier(random_state=42), param_grid, cv=5, scoring='accuracy')\n",
    "grid_search.fit(X_train_pca, y_train_smote)\n",
    "\n",
    "# Get the best hyperparameters and train a new model\n",
    "best_params = grid_search.best_params_\n",
    "dt = DecisionTreeClassifier(**best_params, random_state=42)\n",
    "dt.fit(X_train_pca, y_train_smote)\n",
    "\n",
    "# Make predictions on the validation and test sets\n",
    "y_val_pred = dt.predict(X_val_pca)\n",
    "y_test_pred = dt.predict(X_test_pca)\n",
    "\n",
    "# Evaluate the model on validation set\n",
    "val_accuracy = accuracy_score(y_val, y_val_pred)\n",
    "val_class_report = classification_report(y_val, y_val_pred)\n",
    "val_confusion_matrix = confusion_matrix(y_val, y_val_pred)\n",
    "\n",
    "# Evaluate the model on test set\n",
    "test_accuracy = accuracy_score(y_test, y_test_pred)\n",
    "test_class_report = classification_report(y_test, y_test_pred)\n",
    "test_confusion_matrix = confusion_matrix(y_test, y_test_pred)\n",
    "\n",
    "\n",
    "print(\"Test Accuracy:\", test_accuracy)\n",
    "print(\"Test Classification Report:\\n\", test_class_report)\n",
    "print(\"Test Confusion Matrix:\\n\", test_confusion_matrix)\n"
   ]
  },
  {
   "cell_type": "code",
   "execution_count": 16,
   "metadata": {},
   "outputs": [
    {
     "data": {
      "text/plain": [
       "{'max_depth': None, 'min_samples_leaf': 2, 'min_samples_split': 2}"
      ]
     },
     "execution_count": 16,
     "metadata": {},
     "output_type": "execute_result"
    }
   ],
   "source": [
    "best_params"
   ]
  },
  {
   "cell_type": "code",
   "execution_count": 17,
   "metadata": {},
   "outputs": [
    {
     "name": "stdout",
     "output_type": "stream",
     "text": [
      "Test Accuracy: 0.8\n",
      "Test Classification Report:\n",
      "              precision    recall  f1-score   support\n",
      "\n",
      "           0       0.88      0.88      0.88        16\n",
      "           1       0.50      0.50      0.50         4\n",
      "\n",
      "    accuracy                           0.80        20\n",
      "   macro avg       0.69      0.69      0.69        20\n",
      "weighted avg       0.80      0.80      0.80        20\n",
      "\n",
      "Test Confusion Matrix:\n",
      "[[14  2]\n",
      " [ 2  2]]\n"
     ]
    }
   ],
   "source": [
    "# Make predictions on the validation and test sets\n",
    "y_val_pred = dt.predict(X_val_pca)\n",
    "y_test_pred = dt.predict(X_test_pca)\n",
    "\n",
    "\n",
    "# Evaluate the model on test set\n",
    "test_accuracy = accuracy_score(y_test, y_test_pred)\n",
    "print(\"Test Accuracy:\", test_accuracy)\n",
    "print(\"Test Classification Report:\")\n",
    "print(classification_report(y_test, y_test_pred))\n",
    "print(\"Test Confusion Matrix:\")\n",
    "print(confusion_matrix(y_test, y_test_pred))"
   ]
  },
  {
   "cell_type": "code",
   "execution_count": 18,
   "metadata": {},
   "outputs": [
    {
     "data": {
      "image/png": "[encoded data removed]",
      "text/plain": [
       "<Figure size 800x600 with 1 Axes>"
      ]
     },
     "metadata": {},
     "output_type": "display_data"
    }
   ],
   "source": [
    "# Plot ROC curve\n",
    "y_val_pred_proba = dt.predict_proba(X_val_pca)[:, 1]\n",
    "fpr, tpr, _ = roc_curve(y_val, y_val_pred_proba)\n",
    "roc_auc = auc(fpr, tpr)\n",
    "\n",
    "plt.figure(figsize=(8, 6))\n",
    "plt.plot(fpr, tpr, color='darkorange', lw=2, label=f'ROC curve (AUC = {roc_auc:.2f})')\n",
    "plt.plot([0, 1], [0, 1], color='navy', lw=2, linestyle='--')\n",
    "plt.xlim([0.0, 1.0])\n",
    "plt.ylim([0.0, 1.05])\n",
    "plt.xlabel('False Positive Rate')\n",
    "plt.ylabel('True Positive Rate')\n",
    "plt.title('Receiver Operating Characteristic (ROC) Curve for Decision Tree')\n",
    "plt.legend(loc=\"lower right\")\n",
    "plt.show()"
   ]
  },
  {
   "cell_type": "markdown",
   "metadata": {},
   "source": [
    "Observation:\n",
    "\n",
    "Decision Tree ROC Curve:\n",
    "\n",
    "AUC (Area Under the Curve): 0.77.\n",
    "The ROC curve is above the diagonal (random chance), indicating a reasonably good model. However, an AUC of 0.77 suggests that the decision tree classifier has moderate discrimination ability between classes, but there’s room for improvement."
   ]
  },
  {
   "cell_type": "markdown",
   "metadata": {},
   "source": [
    "# Which model is the best to use?"
   ]
  },
  {
   "cell_type": "markdown",
   "metadata": {},
   "source": [
    "Based on the ROC curves and the AUC values for the three models:\n",
    "\n",
    "- Decison Tree Classifier: AUC = 0.77\n",
    "- XGBoost Classifier: AUC = 0.84\n",
    "- Random Forest Classifier: AUC = 0.95\n",
    "\n",
    "The Random Forest Classifier is the best model to use, it has the highest AUC score, which means that it has good discriminative power and performance"
   ]
  },
  {
   "cell_type": "code",
   "execution_count": 19,
   "metadata": {},
   "outputs": [
    {
     "ename": "NameError",
     "evalue": "name 'scaler' is not defined",
     "output_type": "error",
     "traceback": [
      "\u001b[0;31m---------------------------------------------------------------------------\u001b[0m",
      "\u001b[0;31mNameError\u001b[0m                                 Traceback (most recent call last)",
      "Cell \u001b[0;32mIn[19], line 4\u001b[0m\n\u001b[1;32m      1\u001b[0m \u001b[38;5;66;03m# saving the model, scaler and pca as a .sav file\u001b[39;00m\n\u001b[1;32m      2\u001b[0m \u001b[38;5;28;01mimport\u001b[39;00m \u001b[38;5;21;01mjoblib\u001b[39;00m\n\u001b[0;32m----> 4\u001b[0m joblib\u001b[38;5;241m.\u001b[39mdump(scaler, \u001b[38;5;124m'\u001b[39m\u001b[38;5;124mscaler.sav\u001b[39m\u001b[38;5;124m'\u001b[39m)\n\u001b[1;32m      5\u001b[0m joblib\u001b[38;5;241m.\u001b[39mdump(pca, \u001b[38;5;124m'\u001b[39m\u001b[38;5;124mpca.sav\u001b[39m\u001b[38;5;124m'\u001b[39m)\n\u001b[1;32m      6\u001b[0m joblib\u001b[38;5;241m.\u001b[39mdump(rf, \u001b[38;5;124m'\u001b[39m\u001b[38;5;124mrf_model.sav\u001b[39m\u001b[38;5;124m'\u001b[39m)\n",
      "\u001b[0;31mNameError\u001b[0m: name 'scaler' is not defined"
     ]
    }
   ],
   "source": [
    "# saving the model, scaler and pca as a .sav file\n",
    "import joblib\n",
    "\n",
    "joblib.dump(scaler, 'scaler.sav')\n",
    "joblib.dump(pca, 'pca.sav')\n",
    "joblib.dump(rf, 'rf_model.sav')"
   ]
  },
  {
   "cell_type": "code",
   "execution_count": 20,
   "metadata": {},
   "outputs": [],
   "source": [
    "# loading the model, scaler and pca\n",
    "scaler = joblib.load('scaler.sav')\n",
    "pca = joblib.load('pca.sav')\n",
    "rf_model = joblib.load('rf_model.sav')\n",
    "new_data = [[-0.579818495, 2.769459, 70, -1.38629436, -1.38629436, 6, 0, -0.4307829]]\n",
    "\n",
    "\n",
    "new_data_scaled = scaler.transform(new_data)\n",
    "\n"
   ]
  },
  {
   "cell_type": "code",
   "execution_count": 21,
   "metadata": {},
   "outputs": [],
   "source": [
    "new_data_pca = pca.transform(new_data_scaled)"
   ]
  },
  {
   "cell_type": "code",
   "execution_count": 22,
   "metadata": {},
   "outputs": [],
   "source": [
    "prediction = rf_model.predict(new_data_pca)"
   ]
  },
  {
   "cell_type": "code",
   "execution_count": 23,
   "metadata": {},
   "outputs": [
    {
     "data": {
      "text/plain": [
       "array([0])"
      ]
     },
     "execution_count": 23,
     "metadata": {},
     "output_type": "execute_result"
    }
   ],
   "source": [
    "prediction"
   ]
  },
  {
   "cell_type": "markdown",
   "metadata": {},
   "source": [
    "# Building the RNN Model"
   ]
  },
  {
   "cell_type": "code",
   "execution_count": 21,
   "metadata": {},
   "outputs": [],
   "source": [
    "import torch\n",
    "import torch.nn as nn\n",
    "import torch.optim as optim\n",
    "from torch.utils.data import DataLoader, TensorDataset\n",
    "from sklearn.model_selection import train_test_split\n",
    "from sklearn.preprocessing import StandardScaler\n",
    "from imblearn.over_sampling import SMOTE\n",
    "import pandas as pd\n",
    "\n",
    "\n",
    "# Split the data into training, validation, and testing sets\n",
    "X = df.drop('Target', axis=1)\n",
    "y = df['Target']\n",
    "X_temp, X_test, y_temp, y_test = train_test_split(X, y, test_size=0.2, random_state=42)\n",
    "X_train, X_val, y_train, y_val = train_test_split(X_temp, y_temp, test_size=0.25, random_state=42)\n",
    "\n",
    "# Apply SMOTE to balance the training dataset\n",
    "smote = SMOTE(random_state=42)\n",
    "X_train_smote, y_train_smote = smote.fit_resample(X_train, y_train)\n",
    "\n",
    "# Data preprocessing: Standardization\n",
    "scaler = StandardScaler()\n",
    "X_train_scaled = scaler.fit_transform(X_train_smote)\n",
    "X_val_scaled = scaler.transform(X_val)\n",
    "X_test_scaled = scaler.transform(X_test)\n",
    "\n",
    "# Convert scaled data to PyTorch tensors\n",
    "X_train_tensor = torch.FloatTensor(X_train_scaled)\n",
    "X_val_tensor = torch.FloatTensor(X_val_scaled)\n",
    "X_test_tensor = torch.FloatTensor(X_test_scaled)\n",
    "y_train_tensor = torch.LongTensor(y_train_smote)  \n",
    "y_val_tensor = torch.LongTensor(y_val.values)\n",
    "y_test_tensor = torch.LongTensor(y_test.values)\n",
    "\n",
    "# Creating DataLoader objects\n",
    "train_dataset = TensorDataset(X_train_tensor, y_train_tensor)\n",
    "val_dataset = TensorDataset(X_val_tensor, y_val_tensor)\n",
    "test_dataset = TensorDataset(X_test_tensor, y_test_tensor)\n",
    "\n",
    "batch_size = 16\n",
    "\n",
    "train_loader = DataLoader(train_dataset, batch_size=batch_size, shuffle=True)\n",
    "val_loader = DataLoader(val_dataset, batch_size=batch_size)\n",
    "test_loader = DataLoader(test_dataset, batch_size=batch_size)"
   ]
  },
  {
   "cell_type": "code",
   "execution_count": 22,
   "metadata": {},
   "outputs": [],
   "source": [
    "# RNN Model\n",
    "\n",
    "class RNNModel(nn.Module):\n",
    "    def __init__(self, input_size, hidden_size, num_layers, num_classes):\n",
    "        super(RNNModel, self).__init__()\n",
    "        self.hidden_size = hidden_size\n",
    "        self.num_layers = num_layers\n",
    "        self.rnn = nn.RNN(input_size, hidden_size, num_layers, batch_first=True)\n",
    "        self.fc = nn.Linear(hidden_size, num_classes)\n",
    "\n",
    "    def forward(self, x):\n",
    "        h0 = torch.zeros(self.num_layers, x.size(0),\n",
    "                         self.hidden_size).to(x.device)\n",
    "        out, _ = self.rnn(x, h0)\n",
    "        out = self.fc(out[:, -1, :])\n",
    "\n",
    "        return out"
   ]
  },
  {
   "cell_type": "code",
   "execution_count": 23,
   "metadata": {},
   "outputs": [],
   "source": [
    "# hyperparameters\n",
    "input_size = 8\n",
    "hidden_size = 64\n",
    "num_layers = 2\n",
    "num_classes = 2\n",
    "\n",
    "model = RNNModel(input_size, hidden_size, num_layers, num_classes)"
   ]
  },
  {
   "cell_type": "code",
   "execution_count": 24,
   "metadata": {},
   "outputs": [],
   "source": [
    "def train_model(model, train_loader, val_loader, criterion, optimizer, num_epochs):\n",
    "    for epoch in range(num_epochs):\n",
    "        model.train()\n",
    "        train_loss = 0.0\n",
    "        for inputs, labels in train_loader:\n",
    "            inputs = inputs.unsqueeze(1)  \n",
    "            optimizer.zero_grad()\n",
    "            outputs = model(inputs)\n",
    "            loss = criterion(outputs, labels)\n",
    "            loss.backward()\n",
    "            optimizer.step()\n",
    "            train_loss += loss.item()\n",
    "        \n",
    "        # Validation\n",
    "        model.eval()\n",
    "        val_loss = 0.0\n",
    "        correct = 0\n",
    "        total = 0\n",
    "        with torch.no_grad():\n",
    "            for inputs, labels in val_loader:\n",
    "                inputs = inputs.unsqueeze(1)  \n",
    "                outputs = model(inputs)\n",
    "                loss = criterion(outputs, labels)\n",
    "                val_loss += loss.item()\n",
    "                _, predicted = torch.max(outputs.data, 1)\n",
    "                total += labels.size(0)\n",
    "                correct += (predicted == labels).sum().item()\n",
    "        \n",
    "        val_accuracy = 100 * correct / total\n",
    "        print(f'Epoch [{epoch+1}/{num_epochs}], Train Loss: {train_loss:.4f}, Val Loss: {val_loss:.4f}, Val Accuracy: {val_accuracy:.2f}%')\n"
   ]
  },
  {
   "cell_type": "code",
   "execution_count": 25,
   "metadata": {},
   "outputs": [
    {
     "name": "stdout",
     "output_type": "stream",
     "text": [
      "Epoch [1/100], Train Loss: 4.0701, Val Loss: 1.2845, Val Accuracy: 80.00%\n",
      "Epoch [2/100], Train Loss: 3.4447, Val Loss: 1.1396, Val Accuracy: 85.00%\n",
      "Epoch [3/100], Train Loss: 2.9495, Val Loss: 0.9808, Val Accuracy: 90.00%\n",
      "Epoch [4/100], Train Loss: 2.3942, Val Loss: 0.8415, Val Accuracy: 90.00%\n",
      "Epoch [5/100], Train Loss: 1.9362, Val Loss: 0.7165, Val Accuracy: 90.00%\n",
      "Epoch [6/100], Train Loss: 1.5832, Val Loss: 0.6105, Val Accuracy: 95.00%\n",
      "Epoch [7/100], Train Loss: 1.3812, Val Loss: 0.5420, Val Accuracy: 95.00%\n",
      "Epoch [8/100], Train Loss: 1.2318, Val Loss: 0.4811, Val Accuracy: 95.00%\n",
      "Epoch [9/100], Train Loss: 1.1742, Val Loss: 0.4546, Val Accuracy: 95.00%\n",
      "Epoch [10/100], Train Loss: 1.1654, Val Loss: 0.4166, Val Accuracy: 95.00%\n",
      "Epoch [11/100], Train Loss: 1.1057, Val Loss: 0.4184, Val Accuracy: 95.00%\n",
      "Epoch [12/100], Train Loss: 1.0755, Val Loss: 0.4136, Val Accuracy: 95.00%\n",
      "Epoch [13/100], Train Loss: 1.1783, Val Loss: 0.4520, Val Accuracy: 90.00%\n",
      "Epoch [14/100], Train Loss: 1.1527, Val Loss: 0.4178, Val Accuracy: 90.00%\n",
      "Epoch [15/100], Train Loss: 1.0366, Val Loss: 0.4057, Val Accuracy: 90.00%\n",
      "Epoch [16/100], Train Loss: 1.1034, Val Loss: 0.4122, Val Accuracy: 90.00%\n",
      "Epoch [17/100], Train Loss: 1.1142, Val Loss: 0.4232, Val Accuracy: 90.00%\n",
      "Epoch [18/100], Train Loss: 1.1326, Val Loss: 0.3908, Val Accuracy: 90.00%\n",
      "Epoch [19/100], Train Loss: 0.9728, Val Loss: 0.3837, Val Accuracy: 90.00%\n",
      "Epoch [20/100], Train Loss: 0.9336, Val Loss: 0.3813, Val Accuracy: 90.00%\n",
      "Epoch [21/100], Train Loss: 1.1297, Val Loss: 0.3907, Val Accuracy: 90.00%\n",
      "Epoch [22/100], Train Loss: 0.9531, Val Loss: 0.4137, Val Accuracy: 90.00%\n",
      "Epoch [23/100], Train Loss: 0.9460, Val Loss: 0.4331, Val Accuracy: 90.00%\n",
      "Epoch [24/100], Train Loss: 0.9197, Val Loss: 0.4104, Val Accuracy: 90.00%\n",
      "Epoch [25/100], Train Loss: 0.9131, Val Loss: 0.4121, Val Accuracy: 90.00%\n",
      "Epoch [26/100], Train Loss: 0.8977, Val Loss: 0.4101, Val Accuracy: 90.00%\n",
      "Epoch [27/100], Train Loss: 0.8890, Val Loss: 0.4095, Val Accuracy: 90.00%\n",
      "Epoch [28/100], Train Loss: 0.9396, Val Loss: 0.3972, Val Accuracy: 90.00%\n",
      "Epoch [29/100], Train Loss: 0.9635, Val Loss: 0.4726, Val Accuracy: 90.00%\n",
      "Epoch [30/100], Train Loss: 0.8843, Val Loss: 0.4578, Val Accuracy: 90.00%\n",
      "Epoch [31/100], Train Loss: 0.9692, Val Loss: 0.4244, Val Accuracy: 90.00%\n",
      "Epoch [32/100], Train Loss: 0.8691, Val Loss: 0.3854, Val Accuracy: 90.00%\n",
      "Epoch [33/100], Train Loss: 0.8914, Val Loss: 0.3926, Val Accuracy: 90.00%\n",
      "Epoch [34/100], Train Loss: 0.8754, Val Loss: 0.3825, Val Accuracy: 90.00%\n",
      "Epoch [35/100], Train Loss: 0.8788, Val Loss: 0.3612, Val Accuracy: 90.00%\n",
      "Epoch [36/100], Train Loss: 0.8444, Val Loss: 0.3658, Val Accuracy: 90.00%\n",
      "Epoch [37/100], Train Loss: 0.8674, Val Loss: 0.3840, Val Accuracy: 90.00%\n",
      "Epoch [38/100], Train Loss: 0.8373, Val Loss: 0.4156, Val Accuracy: 90.00%\n",
      "Epoch [39/100], Train Loss: 0.8813, Val Loss: 0.4504, Val Accuracy: 90.00%\n",
      "Epoch [40/100], Train Loss: 0.8630, Val Loss: 0.4193, Val Accuracy: 90.00%\n",
      "Epoch [41/100], Train Loss: 1.0030, Val Loss: 0.3807, Val Accuracy: 90.00%\n",
      "Epoch [42/100], Train Loss: 0.9498, Val Loss: 0.3706, Val Accuracy: 90.00%\n",
      "Epoch [43/100], Train Loss: 1.0320, Val Loss: 0.3891, Val Accuracy: 90.00%\n",
      "Epoch [44/100], Train Loss: 0.8287, Val Loss: 0.4118, Val Accuracy: 90.00%\n",
      "Epoch [45/100], Train Loss: 0.8715, Val Loss: 0.4568, Val Accuracy: 90.00%\n",
      "Epoch [46/100], Train Loss: 0.8459, Val Loss: 0.4304, Val Accuracy: 90.00%\n",
      "Epoch [47/100], Train Loss: 1.0252, Val Loss: 0.4627, Val Accuracy: 90.00%\n",
      "Epoch [48/100], Train Loss: 0.8170, Val Loss: 0.4002, Val Accuracy: 90.00%\n",
      "Epoch [49/100], Train Loss: 0.8556, Val Loss: 0.3828, Val Accuracy: 90.00%\n",
      "Epoch [50/100], Train Loss: 0.8790, Val Loss: 0.3651, Val Accuracy: 90.00%\n",
      "Epoch [51/100], Train Loss: 0.8602, Val Loss: 0.4343, Val Accuracy: 90.00%\n",
      "Epoch [52/100], Train Loss: 0.8252, Val Loss: 0.4654, Val Accuracy: 90.00%\n",
      "Epoch [53/100], Train Loss: 0.8105, Val Loss: 0.4607, Val Accuracy: 90.00%\n",
      "Epoch [54/100], Train Loss: 0.8125, Val Loss: 0.4682, Val Accuracy: 90.00%\n",
      "Epoch [55/100], Train Loss: 0.8754, Val Loss: 0.4399, Val Accuracy: 90.00%\n",
      "Epoch [56/100], Train Loss: 0.7911, Val Loss: 0.4737, Val Accuracy: 90.00%\n",
      "Epoch [57/100], Train Loss: 0.8663, Val Loss: 0.4754, Val Accuracy: 90.00%\n",
      "Epoch [58/100], Train Loss: 0.8162, Val Loss: 0.4685, Val Accuracy: 90.00%\n",
      "Epoch [59/100], Train Loss: 0.9035, Val Loss: 0.4387, Val Accuracy: 90.00%\n",
      "Epoch [60/100], Train Loss: 0.8662, Val Loss: 0.4459, Val Accuracy: 90.00%\n",
      "Epoch [61/100], Train Loss: 0.9093, Val Loss: 0.3679, Val Accuracy: 90.00%\n",
      "Epoch [62/100], Train Loss: 0.7765, Val Loss: 0.3964, Val Accuracy: 90.00%\n",
      "Epoch [63/100], Train Loss: 0.8239, Val Loss: 0.3987, Val Accuracy: 90.00%\n",
      "Epoch [64/100], Train Loss: 0.8920, Val Loss: 0.4525, Val Accuracy: 90.00%\n",
      "Epoch [65/100], Train Loss: 0.8315, Val Loss: 0.4428, Val Accuracy: 90.00%\n",
      "Epoch [66/100], Train Loss: 0.7917, Val Loss: 0.4571, Val Accuracy: 90.00%\n",
      "Epoch [67/100], Train Loss: 0.8402, Val Loss: 0.4753, Val Accuracy: 90.00%\n",
      "Epoch [68/100], Train Loss: 0.7663, Val Loss: 0.4460, Val Accuracy: 90.00%\n",
      "Epoch [69/100], Train Loss: 0.7882, Val Loss: 0.4505, Val Accuracy: 90.00%\n",
      "Epoch [70/100], Train Loss: 0.9612, Val Loss: 0.5328, Val Accuracy: 90.00%\n",
      "Epoch [71/100], Train Loss: 0.8146, Val Loss: 0.4367, Val Accuracy: 90.00%\n",
      "Epoch [72/100], Train Loss: 0.7637, Val Loss: 0.4175, Val Accuracy: 90.00%\n",
      "Epoch [73/100], Train Loss: 0.8080, Val Loss: 0.4306, Val Accuracy: 90.00%\n",
      "Epoch [74/100], Train Loss: 0.7558, Val Loss: 0.4906, Val Accuracy: 90.00%\n",
      "Epoch [75/100], Train Loss: 0.8710, Val Loss: 0.4886, Val Accuracy: 90.00%\n",
      "Epoch [76/100], Train Loss: 0.7634, Val Loss: 0.5225, Val Accuracy: 90.00%\n",
      "Epoch [77/100], Train Loss: 0.7640, Val Loss: 0.5391, Val Accuracy: 90.00%\n",
      "Epoch [78/100], Train Loss: 0.7733, Val Loss: 0.5103, Val Accuracy: 90.00%\n",
      "Epoch [79/100], Train Loss: 0.7866, Val Loss: 0.4683, Val Accuracy: 90.00%\n",
      "Epoch [80/100], Train Loss: 0.7626, Val Loss: 0.4631, Val Accuracy: 90.00%\n",
      "Epoch [81/100], Train Loss: 0.7696, Val Loss: 0.4790, Val Accuracy: 90.00%\n",
      "Epoch [82/100], Train Loss: 0.7361, Val Loss: 0.5192, Val Accuracy: 90.00%\n",
      "Epoch [83/100], Train Loss: 0.8035, Val Loss: 0.5628, Val Accuracy: 90.00%\n",
      "Epoch [84/100], Train Loss: 0.7560, Val Loss: 0.5479, Val Accuracy: 90.00%\n",
      "Epoch [85/100], Train Loss: 0.7499, Val Loss: 0.5372, Val Accuracy: 90.00%\n",
      "Epoch [86/100], Train Loss: 0.7764, Val Loss: 0.5202, Val Accuracy: 90.00%\n",
      "Epoch [87/100], Train Loss: 0.7726, Val Loss: 0.4722, Val Accuracy: 90.00%\n",
      "Epoch [88/100], Train Loss: 0.8541, Val Loss: 0.5243, Val Accuracy: 90.00%\n",
      "Epoch [89/100], Train Loss: 0.7263, Val Loss: 0.5282, Val Accuracy: 90.00%\n",
      "Epoch [90/100], Train Loss: 0.7471, Val Loss: 0.5195, Val Accuracy: 90.00%\n",
      "Epoch [91/100], Train Loss: 0.7926, Val Loss: 0.5550, Val Accuracy: 90.00%\n",
      "Epoch [92/100], Train Loss: 0.7321, Val Loss: 0.5110, Val Accuracy: 90.00%\n",
      "Epoch [93/100], Train Loss: 0.9259, Val Loss: 0.4179, Val Accuracy: 95.00%\n",
      "Epoch [94/100], Train Loss: 0.8225, Val Loss: 0.5499, Val Accuracy: 90.00%\n",
      "Epoch [95/100], Train Loss: 0.7177, Val Loss: 0.5910, Val Accuracy: 90.00%\n",
      "Epoch [96/100], Train Loss: 0.8157, Val Loss: 0.5693, Val Accuracy: 90.00%\n",
      "Epoch [97/100], Train Loss: 0.8028, Val Loss: 0.6208, Val Accuracy: 90.00%\n",
      "Epoch [98/100], Train Loss: 0.7898, Val Loss: 0.5804, Val Accuracy: 90.00%\n",
      "Epoch [99/100], Train Loss: 0.7329, Val Loss: 0.5404, Val Accuracy: 90.00%\n",
      "Epoch [100/100], Train Loss: 0.7291, Val Loss: 0.4797, Val Accuracy: 90.00%\n"
     ]
    }
   ],
   "source": [
    "# Loss function and optimizer\n",
    "criterion = nn.CrossEntropyLoss()\n",
    "optimizer = optim.Adam(model.parameters(), lr=0.001)\n",
    "\n",
    "# Train the model\n",
    "num_epochs = 100\n",
    "train_model(model, train_loader, val_loader, criterion, optimizer, num_epochs)\n"
   ]
  },
  {
   "cell_type": "code",
   "execution_count": 26,
   "metadata": {},
   "outputs": [
    {
     "name": "stdout",
     "output_type": "stream",
     "text": [
      "Test Loss: 1.1046, Test Accuracy: 85.00%\n"
     ]
    }
   ],
   "source": [
    "model.eval()\n",
    "test_loss = 0.0\n",
    "correct = 0\n",
    "total = 0\n",
    "with torch.no_grad():\n",
    "    for inputs, labels in test_loader:\n",
    "        inputs = inputs.unsqueeze(1)  # Add sequence dimension\n",
    "        outputs = model(inputs)\n",
    "        loss = criterion(outputs, labels)\n",
    "        test_loss += loss.item()\n",
    "        _, predicted = torch.max(outputs.data, 1)\n",
    "        total += labels.size(0)\n",
    "        correct += (predicted == labels).sum().item()\n",
    "\n",
    "test_accuracy = 100 * correct / total\n",
    "print(f'Test Loss: {test_loss:.4f}, Test Accuracy: {test_accuracy:.2f}%')\n"
   ]
  },
  {
   "cell_type": "code",
   "execution_count": 27,
   "metadata": {},
   "outputs": [
    {
     "name": "stdout",
     "output_type": "stream",
     "text": [
      "Predicted class: 0\n"
     ]
    }
   ],
   "source": [
    "import torch\n",
    "\n",
    "# A New data to predict\n",
    "new_data = [[-0.579818495, 2.769459, 70, -1.38629436, -1.38629436, 6, 0, -0.4307829]]\n",
    "\n",
    "# Convert new data to a PyTorch tensor\n",
    "new_data_tensor = torch.FloatTensor(new_data)\n",
    "\n",
    "# Normalize the new data using the same scaler\n",
    "new_data_scaled = scaler.transform(new_data)\n",
    "new_data_tensor = torch.FloatTensor(new_data_scaled)\n",
    "\n",
    "# Add a sequence dimension (batch_size=1, sequence_length=1, input_size=8)\n",
    "new_data_tensor = new_data_tensor.unsqueeze(0)\n",
    "\n",
    "# make sure that the model is in evaluation mode\n",
    "model.eval()\n",
    "\n",
    "# Make predictions\n",
    "with torch.no_grad():\n",
    "    output = model(new_data_tensor)\n",
    "    _, predicted_class = torch.max(output, 1)\n",
    "\n",
    "# Print the predicted class\n",
    "print(f'Predicted class: {predicted_class.item()}')\n"
   ]
  },
  {
   "cell_type": "code",
   "execution_count": 28,
   "metadata": {},
   "outputs": [],
   "source": [
    "torch.save(model, 'rnn_model.pth')"
   ]
  },
  {
   "cell_type": "code",
   "execution_count": 29,
   "metadata": {},
   "outputs": [
    {
     "name": "stdout",
     "output_type": "stream",
     "text": [
      "Predicted class: 0\n"
     ]
    }
   ],
   "source": [
    "import torch\n",
    "import numpy as np\n",
    "import joblib\n",
    "from sklearn.preprocessing import StandardScaler\n",
    "\n",
    "\n",
    "# Load the trained RNN model\n",
    "model = torch.load('rnn_model.pth')\n",
    "\n",
    "# Set the model to evaluation mode\n",
    "model.eval()\n",
    "\n",
    "# New data for prediction\n",
    "new_data = [[-0.579818495, 2.769459, 70, -1.38629436, -1.38629436, 6, 0, -0.4307829]]\n",
    "\n",
    "# Load the scaler (assuming it was saved using joblib or similar)\n",
    "scaler = StandardScaler()\n",
    "\n",
    "scaler = joblib.load('scaler.sav')  \n",
    "\n",
    "# Scale the new data\n",
    "new_data_scaled = scaler.transform(new_data)\n",
    "\n",
    "# Convert the new data to a PyTorch tensor and add the sequence dimension\n",
    "new_data_tensor = torch.FloatTensor(new_data_scaled).unsqueeze(0)\n",
    "\n",
    "# Make prediction\n",
    "with torch.no_grad():\n",
    "    output = model(new_data_tensor)\n",
    "    _, predicted_class = torch.max(output, 1)\n",
    "\n",
    "# Print the predicted class\n",
    "print(f'Predicted class: {predicted_class.item()}')\n"
   ]
  },
  {
   "cell_type": "code",
   "execution_count": null,
   "metadata": {},
   "outputs": [],
   "source": []
  }
 ],
 "metadata": {
  "kernelspec": {
   "display_name": "base",
   "language": "python",
   "name": "python3"
  },
  "language_info": {
   "codemirror_mode": {
    "name": "ipython",
    "version": 3
   },
   "file_extension": ".py",
   "mimetype": "text/x-python",
   "name": "python",
   "nbconvert_exporter": "python",
   "pygments_lexer": "ipython3",
   "version": "3.11.7"
  }
 },
 "nbformat": 4,
 "nbformat_minor": 2
}
